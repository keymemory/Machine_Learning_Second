{
  "nbformat": 4,
  "nbformat_minor": 0,
  "metadata": {
    "colab": {
      "name": "ML2_day1_1.ipynb",
      "provenance": [],
      "collapsed_sections": [],
      "authorship_tag": "ABX9TyMhMzJVROt8oFDi0ymmXNbY",
      "include_colab_link": true
    },
    "kernelspec": {
      "name": "python3",
      "display_name": "Python 3"
    }
  },
  "cells": [
    {
      "cell_type": "markdown",
      "metadata": {
        "id": "view-in-github",
        "colab_type": "text"
      },
      "source": [
        "<a href=\"https://colab.research.google.com/github/keymemory/Machine_Learning_Second/blob/main/ML2_day1_1.ipynb\" target=\"_parent\"><img src=\"https://colab.research.google.com/assets/colab-badge.svg\" alt=\"Open In Colab\"/></a>"
      ]
    },
    {
      "cell_type": "code",
      "metadata": {
        "id": "iAPvgvZrCJJI"
      },
      "source": [
        "import tensorflow as tf\n",
        "import numpy as np"
      ],
      "execution_count": null,
      "outputs": []
    },
    {
      "cell_type": "code",
      "metadata": {
        "id": "m4c5-6unCQyk"
      },
      "source": [
        "# 파일을 4바이트 단위로 읽어서 행렬로 저장하는 함수\n",
        "def _read32(bytestream):\n",
        "  dt = np.dtype(np.uint32).newbyteorder('>')\n",
        "  return np.frombuffer(bytestream.read(4), dtype=dy)[0]\n",
        "\n",
        "# 테스트 셋을 저장할 변수\n",
        "test_images = 0\n",
        "test_labels = 0"
      ],
      "execution_count": null,
      "outputs": []
    },
    {
      "cell_type": "code",
      "metadata": {
        "id": "P56qZkuiEBYt"
      },
      "source": [
        "# 트레이닝 셋(트레이닝 + 벨리데이션)을 저장할 변수\n",
        "train_data = 0\n",
        "train_datavalue = 0\n",
        "\n",
        "# 트레이닝 셋의 갯수\n",
        "image_num = 55000\n",
        "\n",
        "# 트레이닝 반복 횟수\n",
        "training_epochs = 25\n",
        "\n",
        "# Online Learning을 위해 나눠서 수행할 batch 크기(55000개의 데이터이므로 한번에 550개씩\n",
        "# 학습 수행)\n",
        "batch_size = 100"
      ],
      "execution_count": null,
      "outputs": []
    },
    {
      "cell_type": "code",
      "metadata": {
        "id": "hE5r7_5WHAaT"
      },
      "source": [
        "# 테스트 셋(이미지데이터) 파일 읽은 후 행렬로 변환\n",
        "with open('t10k-images.idx3-ubyte','rb') as f:\n",
        " magic = _read32(f) #고유한 코드(?)\n",
        " num_images = _read32(f) #데이터 번호 (1~60000)\n",
        " rows = _read32(f) #rows데이터의 구성 수 (28)\n",
        " cols = _read32(f) #cols데이터의 구성 수 (28)\n",
        " buf = f.read(rows * cols * num_images) #(28 * 28 * 데이터번호) 단위로 읽음\n",
        " \n",
        " # frombuffer를 통해 1차원 배열 형태로 8비트 형태로 변환한다.\n",
        " test_images = np.frombuffer(buf, dtype=np.uint8)\n",
        "\n",
        " # reshape를 통해 행렬 변환\n",
        " test_images = test_images.reshape(num_images, rows, cols, 1)\n",
        "\n",
        " # 위에서 생성된 행렬을 가로 행렬로 풀기 위한 수식\n",
        " test_images = test_images.reshape(test_images.shape[0],\n",
        " test_images.shape[1]*test_images.shape[2]) "
      ],
      "execution_count": null,
      "outputs": []
    },
    {
      "cell_type": "code",
      "metadata": {
        "id": "Rowr6JijIFyJ"
      },
      "source": [
        " # 데이터 형식을 float32로 변환\n",
        " test_images = test_images.astype(np.float32) "
      ],
      "execution_count": null,
      "outputs": []
    },
    {
      "cell_type": "code",
      "metadata": {
        "id": "auQvm5ZJIOBw"
      },
      "source": [
        "# 트레이닝 셋(이미지 데이터) 파일 읽은 후 행렬로 변환.\n",
        "with open('train-images.idx3-ubyte','rb') as f:\n",
        " magic = _read32(f)\n",
        " num_images = _read32(f)\n",
        " rows = _read32(f)\n",
        " cols = _read32(f)\n",
        " buf = f.read(rows * cols * num_images)\n",
        " train_data = np.frombuffer(buf, dtype=np.uint8)\n",
        " train_data = train_data.reshape(num_images, rows, cols, 1)\n",
        " train_data = train_data.reshape(train_data.shape[0],\n",
        " train_data.shape[1]*train_data.shape[2])\n",
        " train_data = train_data.astype(np.float32)"
      ],
      "execution_count": null,
      "outputs": []
    },
    {
      "cell_type": "code",
      "metadata": {
        "id": "p77ifGEbP-Wz"
      },
      "source": [
        "# 테스트 셋(라벨 데이터) 파일 읽은 후 행렬로 변환.\n",
        "with open('t10k-labels.idx1-ubyte', 'rb') as f:\n",
        " magic = _read32(f) #고유한 코드(?)\n",
        " num_items = _read32(f)\n",
        " buf = f.read(num_items)\n",
        " # frombuffer를 통해 1차원 배열 형태로 8비트 형태로 변환한다.\n",
        " _label = np.frombuffer(buf, dtype=np.uint8)\n",
        " # one_hot encording 하는 방법\n",
        " num_labels = _label.shape[0]\n",
        " index_offset = np.arange(num_labels) * 10\n",
        " test_labels = np.zeros((num_labels, 10))\n",
        " test_labels.flat[index_offset + _label.ravel()] = 1"
      ],
      "execution_count": null,
      "outputs": []
    },
    {
      "cell_type": "code",
      "metadata": {
        "id": "4JI2quL0QOmW"
      },
      "source": [
        "# 트레이닝 셋(라벨 데이터) 파일 읽은 후 행렬로 변환.\n",
        "with open('train-labels.idx1-ubyte', 'rb') as f:\n",
        " magic = _read32(f)\n",
        " num_items = _read32(f)\n",
        " buf = f.read(num_items)\n",
        " _label = np.frombuffer(buf, dtype=np.uint8)\n",
        " num_labels = _label.shape[0]\n",
        " index_offset = np.arange(num_labels) * 10\n",
        " train_datavalue = np.zeros((num_labels, 10))\n",
        " train_datavalue.flat[index_offset + _label.ravel()] = 1"
      ],
      "execution_count": null,
      "outputs": []
    },
    {
      "cell_type": "code",
      "metadata": {
        "id": "qr_0o1Xcjo5Q"
      },
      "source": [
        "# 트레이닝 데이터\n",
        "x = tf.placeholder(tf.float32, [None, 784])\n",
        "\n",
        "# 라벨 데이터\n",
        "y = tf.placeholder(tf.float32, [None, 10])\n",
        "\n",
        "# 웨이트\n",
        "W = tf.Variable(tf.zeros([784, 10]))"
      ],
      "execution_count": null,
      "outputs": []
    },
    {
      "cell_type": "code",
      "metadata": {
        "id": "p_KtgaGDj2RU"
      },
      "source": [
        "# 베리어블\n",
        "b = tf.Variable(tf.zeros([10]))\n",
        "\n",
        "# 소프트맥스 정의\n",
        "activation = tf.nn.softmax(tf.matmul(x, W) + b)\n",
        "\n",
        "# 크로스 엔트로피(코스트함수) 정의\n",
        "cross_entropy = tf.reduce_mean(-tf.reduce_sum(y * tf.log(activation),\n",
        " reduction_indices=1))"
      ],
      "execution_count": null,
      "outputs": []
    },
    {
      "cell_type": "code",
      "metadata": {
        "id": "_HjaH1ISj6GV"
      },
      "source": [
        "# 경사 하강법 정의\n",
        "optimizer = tf.train.GradientDescentOptimizer(0.000005).minimize(cross_entropy)\n",
        "\n",
        "# 변수 초기화\n",
        "init = tf.global_variables_initializer() "
      ],
      "execution_count": null,
      "outputs": []
    },
    {
      "cell_type": "code",
      "metadata": {
        "id": "Lej6P1dgj6zu"
      },
      "source": [
        "# 6만개의 트레이닝 셋을 55000, 5000개로 잘라서 트레이닝 셋, 벨리데이션 셋으로 나눔)\n",
        "validation_images = train_data[:5000]\n",
        "validation_labels = train_datavalue[:5000]\n",
        "train_image = train_data[5000:]\n",
        "train_labels = train_datavalue[5000:]\n",
        "\n",
        "# 코스트의 평균값을 저장\n",
        "avg_cost = 0"
      ],
      "execution_count": null,
      "outputs": []
    },
    {
      "cell_type": "code",
      "metadata": {
        "id": "Hme6lspaj7Hy"
      },
      "source": [
        "# 학습 시작\n",
        "with tf.Session() as sess:\n",
        " sess.run(init)\n",
        "\n",
        " #25번 반복함\n",
        " for epoch in range(training_epochs):\n",
        " start_index = 0\n",
        " end_index = 0\n",
        " # 550개 단위로 잘라서 학습을 진행함\n",
        "\n",
        " for step in xrange(batch_size):\n",
        " start_index = end_index;\n",
        " end_index = end_index + (image_num/batch_size)\n",
        " batch_xs = train_image[start_index:end_index]\n",
        " batch_ys = train_labels[start_index:end_index]\n",
        " sess.run(optimizer, feed_dict={x:batch_xs, y:batch_ys})\n",
        " avg_cost = sess.run(cross_entropy, feed_dict={x:batch_xs, y:batch_ys}) \n",
        "\n",
        " # 학습을 한번 끝낼 때마다 디버깅 코드 출력\n",
        " print \"Epoch:\", '%04d' %(epoch), \"cost=\", \"{:.9f}\".format(avg_cost)\n",
        " print 'study success'"
      ],
      "execution_count": null,
      "outputs": []
    },
    {
      "cell_type": "code",
      "metadata": {
        "id": "Ptwh4Nskj7Vi"
      },
      "source": [
        " # 테스트 셋을 이용하여 성능 평가\n",
        " # 테스트 셋을 이용한 결과 값과 실제 label값을 비교연산\n",
        " correct_prediction = tf.equal(tf.argmax(activation, 1), tf.argmax(y, 1))\n",
        " \n",
        " # 결과 값의 평균을 구함\n",
        " accuracy = tf.reduce_mean(tf.cast(correct_prediction, \"float\"))\n",
        " print (\"적중률:\", accuracy.eval({x: test_images, y: test_labels}))"
      ],
      "execution_count": null,
      "outputs": []
    }
  ]
}