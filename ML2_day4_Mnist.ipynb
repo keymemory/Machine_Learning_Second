{
  "nbformat": 4,
  "nbformat_minor": 0,
  "metadata": {
    "colab": {
      "name": "ML2_day4_Mnist.ipynb",
      "provenance": [],
      "collapsed_sections": [],
      "authorship_tag": "ABX9TyNv+eX+kjuSuINB+LXHAQpM",
      "include_colab_link": true
    },
    "kernelspec": {
      "name": "python3",
      "display_name": "Python 3"
    }
  },
  "cells": [
    {
      "cell_type": "markdown",
      "metadata": {
        "id": "view-in-github",
        "colab_type": "text"
      },
      "source": [
        "<a href=\"https://colab.research.google.com/github/keymemory/Machine_Learning_Second/blob/main/ML2_day4_Mnist.ipynb\" target=\"_parent\"><img src=\"https://colab.research.google.com/assets/colab-badge.svg\" alt=\"Open In Colab\"/></a>"
      ]
    },
    {
      "cell_type": "code",
      "metadata": {
        "id": "2V7X5PVLdBwG"
      },
      "source": [
        "# 위와 같은 4개의 파일을 내려받고 GZip 압축을 해제하는 코드\n",
        "\n",
        "import urllib.request as req\n",
        "import gzip, os, os.path\n",
        "savepath = \"./mnist\"\n",
        "baseurl = \"http://yann.lecun.com/exdb/mnist\"\n",
        "files = [\n",
        "    \"train-images-idx3-ubyte.gz\",\n",
        "    \"train-labels-idx1-ubyte.gz\",\n",
        "    \"t10k-images-idx3-ubyte.gz\",\n",
        "    \"t10k-labels-idx1-ubyte.gz\"]"
      ],
      "execution_count": null,
      "outputs": []
    },
    {
      "cell_type": "code",
      "metadata": {
        "id": "dc1U9eG8djDf",
        "colab": {
          "base_uri": "https://localhost:8080/",
          "height": 87
        },
        "outputId": "9fa4e786-3454-4154-a5eb-4291e4cc221b"
      },
      "source": [
        "# 다운로드\n",
        "if not os.path.exists(savepath): os.mkdir(savepath)\n",
        "for f in files:\n",
        "    url = baseurl + \"/\" + f\n",
        "    loc = savepath + \"/\" + f\n",
        "    print(\"download:\", url)\n",
        "    if not os.path.exists(loc):\n",
        "        req.urlretrieve(url, loc)"
      ],
      "execution_count": null,
      "outputs": [
        {
          "output_type": "stream",
          "text": [
            "download: http://yann.lecun.com/exdb/mnist/train-images-idx3-ubyte.gz\n",
            "download: http://yann.lecun.com/exdb/mnist/train-labels-idx1-ubyte.gz\n",
            "download: http://yann.lecun.com/exdb/mnist/t10k-images-idx3-ubyte.gz\n",
            "download: http://yann.lecun.com/exdb/mnist/t10k-labels-idx1-ubyte.gz\n"
          ],
          "name": "stdout"
        }
      ]
    },
    {
      "cell_type": "code",
      "metadata": {
        "id": "rs1FteEfdmZe",
        "colab": {
          "base_uri": "https://localhost:8080/",
          "height": 105
        },
        "outputId": "4b464aec-f335-4928-b582-53e1b4e25ead"
      },
      "source": [
        "# GZip 압축 해제\n",
        "for f in files:\n",
        "    gz_file = savepath + \"/\" + f\n",
        "    raw_file = savepath + \"/\" + f.replace(\".gz\", \"\")\n",
        "    print(\"gzip:\", f)\n",
        "    with gzip.open(gz_file, \"rb\") as fp:\n",
        "        body = fp.read()\n",
        "        with open(raw_file, \"wb\") as w:\n",
        "            w.write(body)\n",
        "print(\"ok\")"
      ],
      "execution_count": null,
      "outputs": [
        {
          "output_type": "stream",
          "text": [
            "gzip: train-images-idx3-ubyte.gz\n",
            "gzip: train-labels-idx1-ubyte.gz\n",
            "gzip: t10k-images-idx3-ubyte.gz\n",
            "gzip: t10k-labels-idx1-ubyte.gz\n",
            "ok\n"
          ],
          "name": "stdout"
        }
      ]
    },
    {
      "cell_type": "code",
      "metadata": {
        "id": "AZvmPvw3dloX"
      },
      "source": [
        "import struct#파이썬으로 바이너리 처리를 위한 모듈\n",
        "def to_csv(name, maxdata):\n",
        "\n",
        "    # 레이블 파일과 이미지 파일 열기\n",
        "    # 파일을 open()으로 열 때 “r\"이 아니라 바이너리 파일 열기를 나타내는 ”rb\"를\n",
        "    # 사용한다는 것에 유의해야 한다. \n",
        "    lbl_f = open(\"./mnist/\"+name+\"-labels-idx1-ubyte\", \"rb\")\n",
        "    img_f = open(\"./mnist/\"+name+\"-images-idx3-ubyte\", \"rb\")\n",
        "    csv_f = open(\"./mnist/\"+name+\".csv\", \"w\", encoding=\"utf-8\")\n",
        "\n",
        "    # 헤더 정보 읽기 --- (※1)\n",
        "    # 원하는 바이너리 수만큼 읽어 들이고 정수로 변환하기 위해 struct.unpack()를 사용.\n",
        "    mag, lbl_count = struct.unpack(\">II\", lbl_f.read(8))\n",
        "    mag, img_count = struct.unpack(\">II\", img_f.read(8))\n",
        "    rows, cols = struct.unpack(\">II\", img_f.read(8))\n",
        "    pixels = rows * cols\n",
        "\n",
        "    # 이미지 데이터를 읽고 CSV로 저장하기 --- (※2)\n",
        "    res = []\n",
        "    for idx in range(lbl_count):\n",
        "        if idx > maxdata: break\n",
        "        label = struct.unpack(\"B\", lbl_f.read(1))[0]\n",
        "        bdata = img_f.read(pixels)\n",
        "        sdata = list(map(lambda n: str(n), bdata))\n",
        "        csv_f.write(str(label)+\",\")\n",
        "        csv_f.write(\",\".join(sdata)+\"\\r\\n\")\n",
        "\n",
        "        # 잘 저장됐는지 이미지 파일로 저장해서 테스트하기 -- (※3)\n",
        "        if idx < 10:\n",
        "            s = \"P2 28 28 255\\n\"\n",
        "            s += \" \".join(sdata)\n",
        "            iname = \"./mnist/{0}-{1}-{2}.pgm\".format(name,idx,label)\n",
        "            with open(iname, \"w\", encoding=\"utf-8\") as f:\n",
        "                f.write(s)\n",
        "    csv_f.close()\n",
        "    lbl_f.close()\n",
        "    img_f.close()"
      ],
      "execution_count": null,
      "outputs": []
    },
    {
      "cell_type": "code",
      "metadata": {
        "id": "CWju9WrBdrVO"
      },
      "source": [
        "# 결과를 파일로 출력하기 --- (※4)\n",
        "# 1000개의 데이터를 학습시키고 500개의 데이터로 테스트한다.\n",
        "to_csv(\"train\", 1000)\n",
        "to_csv(\"t10k\", 500)"
      ],
      "execution_count": null,
      "outputs": []
    },
    {
      "cell_type": "code",
      "metadata": {
        "id": "9MzDEf3UdvLL"
      },
      "source": [
        "from sklearn import model_selection, svm, metrics\n",
        "\n",
        "# CSV 파일을 읽어 들이고 가공하기 --- (※1)\n",
        "# CSV 파일을 읽어들이고 Labels과 images 데이터를 배열로 만든다. \n",
        "# 이때 이미지 데이터의 각 픽셀은 0~255까지의 정수인데 이를 256으로 나누기 때문에\n",
        "# 0 이상이고 1 미만인 실수 벡터가 됩니다.\n",
        "def load_csv(fname):\n",
        "    labels = []\n",
        "    images = []\n",
        "    with open(fname, \"r\") as f:\n",
        "        for line in f:\n",
        "            cols = line.split(\",\")\n",
        "            if len(cols) < 2: continue\n",
        "            labels.append(int(cols.pop(0)))\n",
        "            vals = list(map(lambda n: int(n) / 256, cols))\n",
        "            images.append(vals)\n",
        "    return {\"labels\":labels, \"images\":images}\n",
        "data = load_csv(\"./mnist/train.csv\")\n",
        "test = load_csv(\"./mnist/t10k.csv\")"
      ],
      "execution_count": null,
      "outputs": []
    },
    {
      "cell_type": "code",
      "metadata": {
        "id": "gYMybtMId0D-"
      },
      "source": [
        "# 학습하기 --- (※2)\n",
        "# scikit-learn의 SVM(SVC) 알고리즘을 사용한다. fit() 메서드로 학습을 하고\n",
        "# (※3)의 predict() 메서드로 예측을 한다.\n",
        "clf = svm.SVC()\n",
        "clf.fit(data[\"images\"], data[\"labels\"])\n",
        "\n",
        "# 예측하기 --- (※3)\n",
        "predict = clf.predict(test[\"images\"])"
      ],
      "execution_count": null,
      "outputs": []
    },
    {
      "cell_type": "code",
      "metadata": {
        "id": "MJZdJCS3d2im",
        "colab": {
          "base_uri": "https://localhost:8080/",
          "height": 351
        },
        "outputId": "8ef26928-6402-46e9-a1f8-6eec1340a804"
      },
      "source": [
        "# 결과 확인하기 --- (※4)\n",
        "ac_score = metrics.accuracy_score(test[\"labels\"], predict)\n",
        "cl_report = metrics.classification_report(test[\"labels\"], predict)\n",
        "print(\"정답률 =\", ac_score)\n",
        "print(\"리포트 =\")\n",
        "print(cl_report)"
      ],
      "execution_count": null,
      "outputs": [
        {
          "output_type": "stream",
          "text": [
            "정답률 = 0.8842315369261478\n",
            "리포트 =\n",
            "              precision    recall  f1-score   support\n",
            "\n",
            "           0       0.87      0.98      0.92        42\n",
            "           1       0.99      1.00      0.99        67\n",
            "           2       0.91      0.89      0.90        55\n",
            "           3       0.94      0.72      0.81        46\n",
            "           4       0.86      0.93      0.89        55\n",
            "           5       0.75      0.82      0.78        50\n",
            "           6       0.95      0.81      0.88        43\n",
            "           7       0.79      0.94      0.86        49\n",
            "           8       0.94      0.82      0.88        40\n",
            "           9       0.89      0.87      0.88        54\n",
            "\n",
            "    accuracy                           0.88       501\n",
            "   macro avg       0.89      0.88      0.88       501\n",
            "weighted avg       0.89      0.88      0.88       501\n",
            "\n"
          ],
          "name": "stdout"
        }
      ]
    },
    {
      "cell_type": "code",
      "metadata": {
        "id": "FGUS92Rhd6mr"
      },
      "source": [
        ""
      ],
      "execution_count": null,
      "outputs": []
    }
  ]
}