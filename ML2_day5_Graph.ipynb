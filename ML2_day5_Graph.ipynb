{
  "nbformat": 4,
  "nbformat_minor": 0,
  "metadata": {
    "colab": {
      "name": "ML2_day5_Graph.ipynb",
      "provenance": [],
      "collapsed_sections": [],
      "authorship_tag": "ABX9TyPyrWeFParmrYTXgG+ramO4",
      "include_colab_link": true
    },
    "kernelspec": {
      "name": "python3",
      "display_name": "Python 3"
    }
  },
  "cells": [
    {
      "cell_type": "markdown",
      "metadata": {
        "id": "view-in-github",
        "colab_type": "text"
      },
      "source": [
        "<a href=\"https://colab.research.google.com/github/keymemory/Machine_Learning_Second/blob/main/ML2_day5_Graph.ipynb\" target=\"_parent\"><img src=\"https://colab.research.google.com/assets/colab-badge.svg\" alt=\"Open In Colab\"/></a>"
      ]
    },
    {
      "cell_type": "code",
      "metadata": {
        "id": "3M-iowTz2w0d"
      },
      "source": [
        "\n",
        "from google.colab import drive\n",
        "drive.mount('/content/gdrive')"
      ],
      "execution_count": null,
      "outputs": []
    },
    {
      "cell_type": "code",
      "metadata": {
        "id": "dHoAWp_31Z__",
        "colab": {
          "base_uri": "https://localhost:8080/",
          "height": 239
        },
        "outputId": "0907c7e7-8408-4a3a-b896-36126ecd7162"
      },
      "source": [
        "# matplotlib은 수학전용 라이브러리 Numpy와 함게 사용하는 그래프 라이브러리이다.\n",
        "import matplotlib.pyplot as plt\n",
        "import pandas as pd\n",
        "import json\n",
        "\n",
        "# 알파벳 출현 빈도 데이터 읽어 들이기 --- (※1)\n",
        "# 이전의 텍스트 파일로 만든 알파벳 출현 빈도 데이터(JSON 형식)를\n",
        "# 읽어들인다.\n",
        "with open(\"./lang/freq.json\", \"r\", encoding=\"utf-8\") as fp:\n",
        "    freq = json.load(fp)\n",
        "\n",
        "# 언어마다 계산하기 --- (※2)\n",
        "# 그래프로 그릴 수 있게 각 언어의 알파벳 출현 빈도를 집계한다.\n",
        "lang_dic = {}\n",
        "for i, lbl in enumerate(freq[0][\"labels\"]):\n",
        "    fq = freq[0][\"freqs\"][i]\n",
        "    if not (lbl in lang_dic):\n",
        "        lang_dic[lbl] = fq\n",
        "        continue\n",
        "    for idx, v in enumerate(fq):\n",
        "        lang_dic[lbl][idx] = (lang_dic[lbl][idx] + v) / 2\n",
        "\n",
        "# Pandas의 DataFrame에 데이터 넣기 --- (※3)\n",
        "asclist = [[chr(n) for n in range(97,97+26)]]\n",
        "df = pd.DataFrame(lang_dic, index=asclist)\n",
        "\n",
        "# 그래프 그리기 --- (※4)\n",
        "plt.style.use('ggplot')\n",
        "df.plot(kind=\"bar\", subplots=True, ylim=(0,0.15))\n",
        "plt.savefig(\"lang-plot.png\")\n",
        "\n",
        "\n",
        "# 그래프 그리기 --- (※4)\n",
        "plt.style.use('ggplot')\n",
        "df.plot(kind=\"line\")\n",
        "plt.show()\n"
      ],
      "execution_count": null,
      "outputs": [
        {
          "output_type": "error",
          "ename": "FileNotFoundError",
          "evalue": "ignored",
          "traceback": [
            "\u001b[0;31m---------------------------------------------------------------------------\u001b[0m",
            "\u001b[0;31mFileNotFoundError\u001b[0m                         Traceback (most recent call last)",
            "\u001b[0;32m<ipython-input-5-cd270f99ceb9>\u001b[0m in \u001b[0;36m<module>\u001b[0;34m()\u001b[0m\n\u001b[1;32m      7\u001b[0m \u001b[0;31m# 이전의 텍스트 파일로 만든 알파벳 출현 빈도 데이터(JSON 형식)를\u001b[0m\u001b[0;34m\u001b[0m\u001b[0;34m\u001b[0m\u001b[0;34m\u001b[0m\u001b[0m\n\u001b[1;32m      8\u001b[0m \u001b[0;31m# 읽어들인다.\u001b[0m\u001b[0;34m\u001b[0m\u001b[0;34m\u001b[0m\u001b[0;34m\u001b[0m\u001b[0m\n\u001b[0;32m----> 9\u001b[0;31m \u001b[0;32mwith\u001b[0m \u001b[0mopen\u001b[0m\u001b[0;34m(\u001b[0m\u001b[0;34m\"./lang/freq.json\"\u001b[0m\u001b[0;34m,\u001b[0m \u001b[0;34m\"r\"\u001b[0m\u001b[0;34m,\u001b[0m \u001b[0mencoding\u001b[0m\u001b[0;34m=\u001b[0m\u001b[0;34m\"utf-8\"\u001b[0m\u001b[0;34m)\u001b[0m \u001b[0;32mas\u001b[0m \u001b[0mfp\u001b[0m\u001b[0;34m:\u001b[0m\u001b[0;34m\u001b[0m\u001b[0;34m\u001b[0m\u001b[0m\n\u001b[0m\u001b[1;32m     10\u001b[0m     \u001b[0mfreq\u001b[0m \u001b[0;34m=\u001b[0m \u001b[0mjson\u001b[0m\u001b[0;34m.\u001b[0m\u001b[0mload\u001b[0m\u001b[0;34m(\u001b[0m\u001b[0mfp\u001b[0m\u001b[0;34m)\u001b[0m\u001b[0;34m\u001b[0m\u001b[0;34m\u001b[0m\u001b[0m\n\u001b[1;32m     11\u001b[0m \u001b[0;34m\u001b[0m\u001b[0m\n",
            "\u001b[0;31mFileNotFoundError\u001b[0m: [Errno 2] No such file or directory: './lang/freq.json'"
          ]
        }
      ]
    },
    {
      "cell_type": "code",
      "metadata": {
        "id": "eH6DQgke1vjn"
      },
      "source": [
        ""
      ],
      "execution_count": null,
      "outputs": []
    }
  ]
}