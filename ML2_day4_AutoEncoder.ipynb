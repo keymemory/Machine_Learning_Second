{
  "nbformat": 4,
  "nbformat_minor": 0,
  "metadata": {
    "colab": {
      "name": "ML2_day4_AutoEncoder.ipynb",
      "provenance": [],
      "collapsed_sections": [],
      "authorship_tag": "ABX9TyOvkNTkXxq4ou0xkTSGaPin",
      "include_colab_link": true
    },
    "kernelspec": {
      "name": "python3",
      "display_name": "Python 3"
    }
  },
  "cells": [
    {
      "cell_type": "markdown",
      "metadata": {
        "id": "view-in-github",
        "colab_type": "text"
      },
      "source": [
        "<a href=\"https://colab.research.google.com/github/keymemory/Machine_Learning_Second/blob/main/ML2_day4_AutoEncoder.ipynb\" target=\"_parent\"><img src=\"https://colab.research.google.com/assets/colab-badge.svg\" alt=\"Open In Colab\"/></a>"
      ]
    },
    {
      "cell_type": "markdown",
      "metadata": {
        "id": "Fa2ZsU_fB8RY"
      },
      "source": [
        "[AutoEncoder를 이용한 MNIST Reconstruction]"
      ]
    },
    {
      "cell_type": "code",
      "metadata": {
        "id": "MLs9-Be8Bd-3"
      },
      "source": [
        "import tensorflow as tf\n",
        "import numpy as np\n",
        "import matplotlib.pyplot as plt"
      ],
      "execution_count": null,
      "outputs": []
    },
    {
      "cell_type": "code",
      "metadata": {
        "id": "Iinx_NBbB97m",
        "colab": {
          "base_uri": "https://localhost:8080/",
          "height": 345
        },
        "outputId": "f5370b67-ce5f-425e-95d3-f271e1ade20b"
      },
      "source": [
        "# MNIST 데이터 다운로드\n",
        "from tensorflow.examples.tutorials.mnist import input_data\n",
        "mnist = input_data.read_data_sets(\"/tmp/data/\", one_hot=True)"
      ],
      "execution_count": null,
      "outputs": [
        {
          "output_type": "error",
          "ename": "ModuleNotFoundError",
          "evalue": "ignored",
          "traceback": [
            "\u001b[0;31m---------------------------------------------------------------------------\u001b[0m",
            "\u001b[0;31mModuleNotFoundError\u001b[0m                       Traceback (most recent call last)",
            "\u001b[0;32m<ipython-input-2-1406f55a43af>\u001b[0m in \u001b[0;36m<module>\u001b[0;34m()\u001b[0m\n\u001b[1;32m      1\u001b[0m \u001b[0;31m# MNIST 데이터 다운로드\u001b[0m\u001b[0;34m\u001b[0m\u001b[0;34m\u001b[0m\u001b[0;34m\u001b[0m\u001b[0m\n\u001b[0;32m----> 2\u001b[0;31m \u001b[0;32mfrom\u001b[0m \u001b[0mtensorflow\u001b[0m\u001b[0;34m.\u001b[0m\u001b[0mexamples\u001b[0m\u001b[0;34m.\u001b[0m\u001b[0mtutorials\u001b[0m\u001b[0;34m.\u001b[0m\u001b[0mmnist\u001b[0m \u001b[0;32mimport\u001b[0m \u001b[0minput_data\u001b[0m\u001b[0;34m\u001b[0m\u001b[0;34m\u001b[0m\u001b[0m\n\u001b[0m\u001b[1;32m      3\u001b[0m \u001b[0mmnist\u001b[0m \u001b[0;34m=\u001b[0m \u001b[0minput_data\u001b[0m\u001b[0;34m.\u001b[0m\u001b[0mread_data_sets\u001b[0m\u001b[0;34m(\u001b[0m\u001b[0;34m\"/tmp/data/\"\u001b[0m\u001b[0;34m,\u001b[0m \u001b[0mone_hot\u001b[0m\u001b[0;34m=\u001b[0m\u001b[0;32mTrue\u001b[0m\u001b[0;34m)\u001b[0m\u001b[0;34m\u001b[0m\u001b[0;34m\u001b[0m\u001b[0m\n",
            "\u001b[0;31mModuleNotFoundError\u001b[0m: No module named 'tensorflow.examples.tutorials'",
            "",
            "\u001b[0;31m---------------------------------------------------------------------------\u001b[0;32m\nNOTE: If your import is failing due to a missing package, you can\nmanually install dependencies using either !pip or !apt.\n\nTo view examples of installing some common dependencies, click the\n\"Open Examples\" button below.\n\u001b[0;31m---------------------------------------------------------------------------\u001b[0m\n"
          ]
        }
      ]
    },
    {
      "cell_type": "code",
      "metadata": {
        "id": "hnGMp1dVB_Xh"
      },
      "source": [
        "# 학습에 필요한 설정값들 정의\n",
        "learning_rate = 0.02\n",
        "training_epochs = 50    # 반복횟수\n",
        "batch_size = 256        # 배치개수\n",
        "display_step = 1        # 손실함수 출력 주기\n",
        "examples_to_show = 10   # 보여줄 MNIST Reconstruction 이미지 개수\n",
        "input_size = 784        # 28*28\n",
        "hidden1_size = 256 \n",
        "hidden2_size = 128"
      ],
      "execution_count": null,
      "outputs": []
    },
    {
      "cell_type": "code",
      "metadata": {
        "id": "iBHQz7YoCAX_"
      },
      "source": [
        "# 입력을 받기 위한 플레이스홀더 정의\n",
        "# Autoencoder는 Unsupervised Learning이므로 타겟 레이블(label) y가 필요하지 않다.\n",
        "x = tf.placeholder(tf.float32, shape=[None, input_size])"
      ],
      "execution_count": null,
      "outputs": []
    },
    {
      "cell_type": "code",
      "metadata": {
        "id": "0dwrF3JNCAym"
      },
      "source": [
        "# Autoencoder 구조 정의\n",
        "def build_autoencoder(x):\n",
        "  # 인코딩(Encoding) - 784 -> 256 -> 128\n",
        "  W1 = tf.Variable(tf.random_normal(shape=[input_size, hidden1_size]))\n",
        "  b1 = tf.Variable(tf.random_normal(shape=[hidden1_size]))\n",
        "  H1_output = tf.nn.sigmoid(tf.matmul(x,W1) + b1)\n",
        "  W2 = tf.Variable(tf.random_normal(shape=[hidden1_size, hidden2_size]))\n",
        "  b2 = tf.Variable(tf.random_normal(shape=[hidden2_size]))\n",
        "  H2_output = tf.nn.sigmoid(tf.matmul(H1_output,W2) + b2)\n",
        "  # 디코딩(Decoding) 128 -> 256 -> 784\n",
        "  W3 = tf.Variable(tf.random_normal(shape=[hidden2_size, hidden1_size]))\n",
        "  b3 = tf.Variable(tf.random_normal(shape=[hidden1_size]))\n",
        "  H3_output = tf.nn.sigmoid(tf.matmul(H2_output,W3) + b3)\n",
        "  W4 = tf.Variable(tf.random_normal(shape=[hidden1_size, input_size]))\n",
        "  b4 = tf.Variable(tf.random_normal(shape=[input_size]))\n",
        "  reconstructed_x = tf.nn.sigmoid(tf.matmul(H3_output,W4) + b4)\n",
        "\n",
        "  return reconstructed_x"
      ],
      "execution_count": null,
      "outputs": []
    },
    {
      "cell_type": "code",
      "metadata": {
        "id": "S2W5jiPPCCyE"
      },
      "source": [
        "# Autoencoder 선언\n",
        "y_pred = build_autoencoder(x)\n",
        "# 타겟 데이터는 인풋데이터와 같다.\n",
        "y_true = x"
      ],
      "execution_count": null,
      "outputs": []
    },
    {
      "cell_type": "code",
      "metadata": {
        "id": "okvQPhdACEL_"
      },
      "source": [
        "# 손실함수와 옵티마이저 정의\n",
        "loss = tf.reduce_mean(tf.pow(y_true - y_pred, 2)) # MSE(Mean of Squared Error) 손실함수\n",
        "train_step = tf.train.RMSPropOptimizer(learning_rate).minimize(loss)"
      ],
      "execution_count": null,
      "outputs": []
    },
    {
      "cell_type": "code",
      "metadata": {
        "id": "qvM6YfKiCJrw",
        "colab": {
          "base_uri": "https://localhost:8080/",
          "height": 239
        },
        "outputId": "ceb14b36-8f7b-4836-8e3b-4fa2033bfb54"
      },
      "source": [
        "# 세션을 열고 그래프 실행\n",
        "with tf.Session() as sess:\n",
        "  # 변수들의 초기값 할당\n",
        "  sess.run(tf.global_variables_initializer())\n",
        "\n",
        "  # 지정된 횟수만큼 최적화 수행\n",
        "  for epoch in range(training_epochs):\n",
        "    # 전체 배치 호출\n",
        "    total_batch = int(mnist.train.num_examples/batch_size)\n",
        "    # 모든 배치들에 대해서 최적화 수행\n",
        "    for i in range(total_batch):\n",
        "      batch_xs, batch_ys = mnist.train.next_batch(batch_size)\n",
        "      _, current_loss = sess.run([train_step, loss], feed_dict={x: batch_xs})\n",
        "    # 지정된 epoch마다 학습 결과 출력\n",
        "    if epoch % display_step == 0:\n",
        "      print(\"반복(Epoch): %d, 손실 함수(Loss): %f\" % ((epoch+1), current_loss))\n",
        "\n",
        "  # 테스트 데이터로 Reconstruction 수행\n",
        "  reconstructed_result = sess.run(y_pred, feed_dict={x: \n",
        "                   mnist.test.images[:examples_to_show]})\n",
        "  # 원본 MNIST 데이터와 Reconstruction 결과 비교\n",
        "  f, a = plt.subplots(2, 10, figsize=(10, 2))\n",
        "  for i in range(examples_to_show):\n",
        "    a[0][i].imshow(np.reshape(mnist.test.images[i], (28, 28)))\n",
        "    a[1][i].imshow(np.reshape(reconstructed_result[i], (28, 28)))\n",
        "  f.savefig('reconstructed_mnist_image.png')  # reconstruction 결과 png로 저장\n",
        "  f.show()\n",
        "  plt.draw()\n",
        "  plt.waitforbuttonpress()"
      ],
      "execution_count": null,
      "outputs": [
        {
          "output_type": "error",
          "ename": "NameError",
          "evalue": "ignored",
          "traceback": [
            "\u001b[0;31m---------------------------------------------------------------------------\u001b[0m",
            "\u001b[0;31mNameError\u001b[0m                                 Traceback (most recent call last)",
            "\u001b[0;32m<ipython-input-1-d95036876739>\u001b[0m in \u001b[0;36m<module>\u001b[0;34m()\u001b[0m\n\u001b[1;32m      1\u001b[0m \u001b[0;31m# 세션을 열고 그래프 실행\u001b[0m\u001b[0;34m\u001b[0m\u001b[0;34m\u001b[0m\u001b[0;34m\u001b[0m\u001b[0m\n\u001b[0;32m----> 2\u001b[0;31m \u001b[0;32mwith\u001b[0m \u001b[0mtf\u001b[0m\u001b[0;34m.\u001b[0m\u001b[0mSession\u001b[0m\u001b[0;34m(\u001b[0m\u001b[0;34m)\u001b[0m \u001b[0;32mas\u001b[0m \u001b[0msess\u001b[0m\u001b[0;34m:\u001b[0m\u001b[0;34m\u001b[0m\u001b[0;34m\u001b[0m\u001b[0m\n\u001b[0m\u001b[1;32m      3\u001b[0m   \u001b[0;31m# 변수들의 초기값 할당\u001b[0m\u001b[0;34m\u001b[0m\u001b[0;34m\u001b[0m\u001b[0;34m\u001b[0m\u001b[0m\n\u001b[1;32m      4\u001b[0m   \u001b[0msess\u001b[0m\u001b[0;34m.\u001b[0m\u001b[0mrun\u001b[0m\u001b[0;34m(\u001b[0m\u001b[0mtf\u001b[0m\u001b[0;34m.\u001b[0m\u001b[0mglobal_variables_initializer\u001b[0m\u001b[0;34m(\u001b[0m\u001b[0;34m)\u001b[0m\u001b[0;34m)\u001b[0m\u001b[0;34m\u001b[0m\u001b[0;34m\u001b[0m\u001b[0m\n\u001b[1;32m      5\u001b[0m \u001b[0;34m\u001b[0m\u001b[0m\n",
            "\u001b[0;31mNameError\u001b[0m: name 'tf' is not defined"
          ]
        }
      ]
    },
    {
      "cell_type": "code",
      "metadata": {
        "id": "oQ78MqM0WGPl"
      },
      "source": [
        ""
      ],
      "execution_count": null,
      "outputs": []
    }
  ]
}