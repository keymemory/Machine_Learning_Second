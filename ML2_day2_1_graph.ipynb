{
  "nbformat": 4,
  "nbformat_minor": 0,
  "metadata": {
    "colab": {
      "name": "ML2_day2_1_graph.ipynb",
      "provenance": [],
      "collapsed_sections": [],
      "authorship_tag": "ABX9TyOcTsJSVhFiSjHXDxrpr+xX",
      "include_colab_link": true
    },
    "kernelspec": {
      "name": "python3",
      "display_name": "Python 3"
    }
  },
  "cells": [
    {
      "cell_type": "markdown",
      "metadata": {
        "id": "view-in-github",
        "colab_type": "text"
      },
      "source": [
        "<a href=\"https://colab.research.google.com/github/keymemory/Machine_Learning_Second/blob/main/ML2_day2_1_graph.ipynb\" target=\"_parent\"><img src=\"https://colab.research.google.com/assets/colab-badge.svg\" alt=\"Open In Colab\"/></a>"
      ]
    },
    {
      "cell_type": "code",
      "metadata": {
        "id": "cyc58yW3JAml"
      },
      "source": [
        "import numpy as np\n",
        "import pandas as pd\n",
        "import matplotlib.pyplot as plt"
      ],
      "execution_count": null,
      "outputs": []
    },
    {
      "cell_type": "code",
      "metadata": {
        "id": "yFCidCdLMgkH"
      },
      "source": [
        "# 예시를 위한 x 와 y 의 값을 사용\n",
        "x = np.random.randint(10, size=10)\n",
        "y = np.arange(1,11)"
      ],
      "execution_count": null,
      "outputs": []
    },
    {
      "cell_type": "code",
      "metadata": {
        "id": "T_Fuv5A4MnXs",
        "colab": {
          "base_uri": "https://localhost:8080/",
          "height": 392
        },
        "outputId": "d4e964aa-c20e-46ec-b42d-f3bc512b69e0"
      },
      "source": [
        "# plt를 사용하여 graph 작성\n",
        "plt.figure(figsize=(6,6))\n",
        "plt.scatter(x,y)"
      ],
      "execution_count": null,
      "outputs": [
        {
          "output_type": "execute_result",
          "data": {
            "text/plain": [
              "<matplotlib.collections.PathCollection at 0x7f65bb4964a8>"
            ]
          },
          "metadata": {
            "tags": []
          },
          "execution_count": 6
        },
        {
          "output_type": "display_data",
          "data": {
            "image/png": "[encoded data removed]",
            "text/plain": [
              "<Figure size 432x432 with 1 Axes>"
            ]
          },
          "metadata": {
            "tags": [],
            "needs_background": "light"
          }
        }
      ]
    },
    {
      "cell_type": "code",
      "metadata": {
        "id": "1hWaS3rCMsuw",
        "colab": {
          "base_uri": "https://localhost:8080/",
          "height": 374
        },
        "outputId": "4a15f97e-7532-4337-e884-56ca4a14be45"
      },
      "source": [
        "# 위의 point를 갖고 m과 b를 0으로 세팅 후 그래프를 그려보면 다음과 같다\n",
        "plt.figure(figsize=(6,6))\n",
        "plt.scatter(x,y)\n",
        "m, b = np.zeros(1), np.zeros(1)\n",
        "plt.plot(x, x*m+b, color='r')\n",
        "plt.show()"
      ],
      "execution_count": null,
      "outputs": [
        {
          "output_type": "display_data",
          "data": {
            "image/png": "[encoded data removed]",
            "text/plain": [
              "<Figure size 432x432 with 1 Axes>"
            ]
          },
          "metadata": {
            "tags": [],
            "needs_background": "light"
          }
        }
      ]
    },
    {
      "cell_type": "code",
      "metadata": {
        "id": "aJ3l-kchNu-k",
        "colab": {
          "base_uri": "https://localhost:8080/",
          "height": 34
        },
        "outputId": "7db26da8-6eb3-4a6e-941d-60f976bdfac2"
      },
      "source": [
        "# 위와 같이 현재 모든 y의 값은 0이며 실제 값과의 차이를 계산하기 위해서 MSE function을 이용\n",
        "from sklearn.metrics import mean_squared_error\n",
        "\n",
        "print('MSE:{}'.format(np.round(mean_squared_error(y,x*m+b)),3))"
      ],
      "execution_count": null,
      "outputs": [
        {
          "output_type": "stream",
          "text": [
            "MSE:38.0\n"
          ],
          "name": "stdout"
        }
      ]
    },
    {
      "cell_type": "code",
      "metadata": {
        "id": "Hr0fC8KIXIai"
      },
      "source": [
        "def grad_m(m, x, y, b):\n",
        " return -2 * np.mean(x * (y - (x * m + b)))\n",
        " \n",
        "def grad_b(m, x, y, b):\n",
        " return -2 * np.mean(y - (x * m + b))"
      ],
      "execution_count": null,
      "outputs": []
    },
    {
      "cell_type": "code",
      "metadata": {
        "id": "oe54HBgcXbtg"
      },
      "source": [
        "def gradient_descent(x, y):\n",
        "  m, b = 0, 0\n",
        "  while True:\n",
        "    m -= grad_m(m, x, y, b)\n",
        "    b -= grad_b(m, x, y, b)\n",
        "    \n",
        "    if m == 0 or b == 0:\n",
        "      return m, b"
      ],
      "execution_count": null,
      "outputs": []
    },
    {
      "cell_type": "code",
      "metadata": {
        "id": "qFIgASIUXI4O"
      },
      "source": [
        "def gradient_descent(x, y, learning_rate=0.01, num_iter=500):\n",
        "  m, b = 0, 0\n",
        "  \n",
        "  for _ in range(num_iter):\n",
        "    dm = grad_m(m, x, y, b)\n",
        "    db = grad_b(m, x, y, b)\n",
        "    m -= dm * learning_rate\n",
        "    b -= db * learning_rate\n",
        "    \n",
        "    return m,b"
      ],
      "execution_count": null,
      "outputs": []
    },
    {
      "cell_type": "code",
      "metadata": {
        "id": "noFxQ97yOzKU",
        "colab": {
          "base_uri": "https://localhost:8080/",
          "height": 374
        },
        "outputId": "a3dca205-92f2-4d61-a510-aaac25b48927"
      },
      "source": [
        "m,b = gradient_descent(x,y)\n",
        "\n",
        "plt.figure(figsize=(6,6))\n",
        "plt.xlim(-1, 11)\n",
        "plt.ylim(-1,11)\n",
        "plt.scatter(x,y)\n",
        "plt.plot(x,(m*x+b),c='r')\n",
        "plt.show()"
      ],
      "execution_count": null,
      "outputs": [
        {
          "output_type": "display_data",
          "data": {
            "image/png": "[encoded data removed]",
            "text/plain": [
              "<Figure size 432x432 with 1 Axes>"
            ]
          },
          "metadata": {
            "tags": [],
            "needs_background": "light"
          }
        }
      ]
    },
    {
      "cell_type": "code",
      "metadata": {
        "id": "-iZdqS61VvPi"
      },
      "source": [
        ""
      ],
      "execution_count": null,
      "outputs": []
    }
  ]
}