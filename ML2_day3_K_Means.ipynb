{
  "nbformat": 4,
  "nbformat_minor": 0,
  "metadata": {
    "colab": {
      "name": "ML2_day3_K_Means.ipynb",
      "provenance": [],
      "collapsed_sections": [],
      "authorship_tag": "ABX9TyNFQ03KEvTPHw0EFh5ETlUS",
      "include_colab_link": true
    },
    "kernelspec": {
      "name": "python3",
      "display_name": "Python 3"
    }
  },
  "cells": [
    {
      "cell_type": "markdown",
      "metadata": {
        "id": "view-in-github",
        "colab_type": "text"
      },
      "source": [
        "<a href=\"https://colab.research.google.com/github/keymemory/Machine_Learning_Second/blob/main/ML2_day3_K_Means.ipynb\" target=\"_parent\"><img src=\"https://colab.research.google.com/assets/colab-badge.svg\" alt=\"Open In Colab\"/></a>"
      ]
    },
    {
      "cell_type": "code",
      "metadata": {
        "id": "PkBqWaTHS5a7"
      },
      "source": [
        "from time import time\n",
        "import numpy as np\n",
        "import matplotlib.pyplot as plt\n",
        "\n",
        "from sklearn import metrics\n",
        "from sklearn.cluster import KMeans\n",
        "from sklearn.datasets import load_digits\n",
        "from sklearn.decomposition import PCA\n",
        "from sklearn.preprocessing import scale"
      ],
      "execution_count": null,
      "outputs": []
    },
    {
      "cell_type": "code",
      "metadata": {
        "id": "MohmkqP5K29X"
      },
      "source": [
        ""
      ],
      "execution_count": null,
      "outputs": []
    },
    {
      "cell_type": "code",
      "metadata": {
        "id": "9ojO0aqOTn6q"
      },
      "source": [
        "digits = load_digits()\n",
        "data = scale(digits.data)\n",
        "\n",
        "n_samples, n_features = data.shape\n",
        "n_digits = len(np.unique(digits.target))\n",
        "labels = digits.target\n",
        "\n",
        "sample_size = 50"
      ],
      "execution_count": null,
      "outputs": []
    },
    {
      "cell_type": "code",
      "metadata": {
        "id": "z0pwK06CTpp8",
        "colab": {
          "base_uri": "https://localhost:8080/",
          "height": 140
        },
        "outputId": "422378f3-d228-46dd-ee0f-f99d4b4cc534"
      },
      "source": [
        "print(\"n_digits: %d, \\t n_samples %d, \\t n_features %d\"\n",
        "      % (n_digits, n_samples, n_features))\n",
        "\n",
        "print(73 * '_')\n",
        "\n",
        "print('% 9s' % 'init'\n",
        "      '         time   inertia   homo   compl   v-meas   ARI     silhouette')\n",
        "\n",
        "def bench_k_means(estimator, name, data):\n",
        "    t0 = time()\n",
        "    estimator.fit(data)\n",
        "    print('% 9s   %.2fs    %i   %.3f   %.3f   %.3f   %.3f    %.3f'\n",
        "          % (name, (time() - t0), estimator.inertia_,\n",
        "             metrics.homogeneity_score(labels, estimator.labels_),\n",
        "             metrics.completeness_score(labels, estimator.labels_),\n",
        "             metrics.v_measure_score(labels, estimator.labels_),\n",
        "             metrics.adjusted_rand_score(labels, estimator.labels_),\n",
        "             metrics.silhouette_score(data, estimator.labels_,\n",
        "                                      metric='euclidean',\n",
        "                                      sample_size=sample_size)))\n",
        "    \n",
        "\n",
        "pca = PCA(n_components=n_digits).fit(data)\n",
        "bench_k_means(KMeans(init=pca.components_, n_clusters=10),\n",
        "              name=\"PCA-based\",\n",
        "              data=data)\n",
        "print(73 * '_')"
      ],
      "execution_count": null,
      "outputs": [
        {
          "output_type": "stream",
          "text": [
            "n_digits: 10, \t n_samples 1797, \t n_features 64\n",
            "_________________________________________________________________________\n",
            "init         time   inertia   homo   compl   v-meas   ARI     silhouette\n",
            "PCA-based   0.05s    70768   0.668   0.695   0.681   0.558    0.175\n",
            "_________________________________________________________________________\n"
          ],
          "name": "stdout"
        },
        {
          "output_type": "stream",
          "text": [
            "/usr/local/lib/python3.6/dist-packages/ipykernel_launcher.py:11: RuntimeWarning: Explicit initial center position passed: performing only one init in k-means instead of n_init=10\n",
            "  # This is added back by InteractiveShellApp.init_path()\n"
          ],
          "name": "stderr"
        }
      ]
    },
    {
      "cell_type": "code",
      "metadata": {
        "id": "g75PC6SbT8Rd"
      },
      "source": [
        "reduced_data = PCA(n_components=2).fit_transform(data)\n",
        "kmeans = KMeans(init='k-means++', n_clusters=10, n_init=10)\n",
        "kmeans.fit(reduced_data)\n",
        "\n",
        "h = .03     # point in the mesh [x_min, m_max]x[y_min, y_max].\n",
        "\n",
        "x_min, x_max = reduced_data[:, 0].min() + 1, reduced_data[:, 0].max() - 3\n",
        "y_min, y_max = reduced_data[:, 1].min() + 1, reduced_data[:, 1].max() - 3\n",
        "xx, yy = np.meshgrid(np.arange(x_min, x_max, h), np.arange(y_min, y_max, h))\n",
        "\n",
        "Z = kmeans.predict(np.c_[xx.ravel(), yy.ravel()])"
      ],
      "execution_count": null,
      "outputs": []
    },
    {
      "cell_type": "code",
      "metadata": {
        "id": "r7PFKbaRUIvr",
        "colab": {
          "base_uri": "https://localhost:8080/",
          "height": 268
        },
        "outputId": "0f7aa7a6-a26a-4c6f-82d5-1877e332ff25"
      },
      "source": [
        "Z = Z.reshape(xx.shape)\n",
        "plt.figure(1)\n",
        "plt.clf()\n",
        "plt.imshow(Z, interpolation='nearest',\n",
        "           extent=(xx.min(), xx.max(), yy.min(), yy.max()),\n",
        "           cmap=plt.cm.Paired,\n",
        "           aspect='auto', origin='lower')\n",
        "\n",
        "plt.plot(reduced_data[:, 0], reduced_data[:, 1], 'k.', markersize=2)\n",
        "\n",
        "centroids = kmeans.cluster_centers_\n",
        "plt.scatter(centroids[:, 0], centroids[:, 1],\n",
        "            marker='x', s=169, linewidths=3,\n",
        "            color='w', zorder=10)\n",
        "plt.title('K-means clustering on the digits dataset with K = 10')\n",
        "plt.xlim(x_min, x_max)\n",
        "plt.ylim(y_min, y_max)\n",
        "plt.xticks(())\n",
        "plt.yticks(())\n",
        "plt.show()"
      ],
      "execution_count": null,
      "outputs": [
        {
          "output_type": "display_data",
          "data": {
            "image/png": "[encoded data removed]",
            "text/plain": [
              "<Figure size 432x288 with 1 Axes>"
            ]
          },
          "metadata": {
            "tags": []
          }
        }
      ]
    },
    {
      "cell_type": "markdown",
      "metadata": {
        "id": "Gh9TX2t3UTUs"
      },
      "source": [
        "ㅡㅡㅡㅡㅡ 선 ㅡㅡㅡㅡㅡ"
      ]
    },
    {
      "cell_type": "code",
      "metadata": {
        "id": "0GLogVvGUK4T"
      },
      "source": [
        "import numpy as np\n",
        "from sklearn.cluster import KMeans\n",
        "from scipy.spatial.distance import cdist\n",
        "import matplotlib.pyplot as plt"
      ],
      "execution_count": null,
      "outputs": []
    },
    {
      "cell_type": "code",
      "metadata": {
        "id": "W9oh_c_oUN2h",
        "colab": {
          "base_uri": "https://localhost:8080/",
          "height": 295
        },
        "outputId": "980e090c-6ab0-4007-ebc8-46023ed5aa48"
      },
      "source": [
        "cluster1 = np.random.uniform(0.1, 1.5, (2, 10))\n",
        "cluster2 = np.random.uniform(4.2, 1.9, (2,10))\n",
        "X = np.hstack((cluster1, cluster2)).T\n",
        "\n",
        "K = range(1, 10)\n",
        "meandistortions = []\n",
        "for k in K:\n",
        "        kmeans = KMeans(n_clusters=k)\n",
        "        kmeans.fit(X)\n",
        "        meandistortions.append(sum(np.min(cdist(X, kmeans.cluster_centers_, \n",
        "                  'euclidean'), axis = 1))/ X.shape[0])\n",
        "        \n",
        "plt.plot(K, meandistortions, 'bx-')\n",
        "plt.xlabel('k')\n",
        "plt.ylabel('Average distortion')\n",
        "plt.title('Selecting K w/ Elbow Method')\n",
        "plt.show()"
      ],
      "execution_count": null,
      "outputs": [
        {
          "output_type": "display_data",
          "data": {
            "image/png": "[encoded data removed]",
            "text/plain": [
              "<Figure size 432x288 with 1 Axes>"
            ]
          },
          "metadata": {
            "tags": [],
            "needs_background": "light"
          }
        }
      ]
    },
    {
      "cell_type": "markdown",
      "metadata": {
        "id": "mrA3gAbzUXAq"
      },
      "source": [
        "ㅡㅡㅡㅡㅡ 여러개 ㅡㅡㅡㅡㅡ"
      ]
    },
    {
      "cell_type": "code",
      "metadata": {
        "id": "cwor8WWHUPqS"
      },
      "source": [
        "import numpy as np\n",
        "from sklearn.datasets import load_digits"
      ],
      "execution_count": null,
      "outputs": []
    },
    {
      "cell_type": "code",
      "metadata": {
        "id": "vkpAda9PUZvm"
      },
      "source": [
        "digits = load_digits()\n",
        "data = digits.data\n",
        "\n",
        "n_samples, n_features = data.shape\n",
        "n_digits = len(np.unique(digits.target))\n",
        "labels = digits.target"
      ],
      "execution_count": null,
      "outputs": []
    },
    {
      "cell_type": "code",
      "metadata": {
        "id": "CHMXL4C4f_ec",
        "colab": {
          "base_uri": "https://localhost:8080/",
          "height": 34
        },
        "outputId": "a2015b0f-f5c2-4dd4-ec0b-a5ed91cf54db"
      },
      "source": [
        "from google.colab import drive\n",
        "drive.mount('/content/drive')"
      ],
      "execution_count": null,
      "outputs": [
        {
          "output_type": "stream",
          "text": [
            "Drive already mounted at /content/drive; to attempt to forcibly remount, call drive.mount(\"/content/drive\", force_remount=True).\n"
          ],
          "name": "stdout"
        }
      ]
    },
    {
      "cell_type": "code",
      "metadata": {
        "id": "XhidzqWVUawz",
        "colab": {
          "base_uri": "https://localhost:8080/",
          "height": 380
        },
        "outputId": "506c3a66-ca40-45ef-d3ce-8db42e5f86f8"
      },
      "source": [
        "from som import Som\n",
        "\n",
        "som = Som(16,16,64,sigma=1.3,learning_rate=0.5)\n",
        "som.random_weights_init(data)\n",
        "print(\"Initialising SOM.\")\n",
        "som.train_random(data,10000) \n",
        "print(\"\\n SOM Processing Complete.\")\n"
      ],
      "execution_count": null,
      "outputs": [
        {
          "output_type": "error",
          "ename": "ModuleNotFoundError",
          "evalue": "ignored",
          "traceback": [
            "\u001b[0;31m---------------------------------------------------------------------------\u001b[0m",
            "\u001b[0;31mModuleNotFoundError\u001b[0m                       Traceback (most recent call last)",
            "\u001b[0;32m<ipython-input-8-6af7d529a481>\u001b[0m in \u001b[0;36m<module>\u001b[0;34m()\u001b[0m\n\u001b[0;32m----> 1\u001b[0;31m \u001b[0;32mfrom\u001b[0m \u001b[0msom\u001b[0m \u001b[0;32mimport\u001b[0m \u001b[0mSom\u001b[0m\u001b[0;34m\u001b[0m\u001b[0;34m\u001b[0m\u001b[0m\n\u001b[0m\u001b[1;32m      2\u001b[0m \u001b[0;34m\u001b[0m\u001b[0m\n\u001b[1;32m      3\u001b[0m \u001b[0msom\u001b[0m \u001b[0;34m=\u001b[0m \u001b[0mSom\u001b[0m\u001b[0;34m(\u001b[0m\u001b[0;36m16\u001b[0m\u001b[0;34m,\u001b[0m\u001b[0;36m16\u001b[0m\u001b[0;34m,\u001b[0m\u001b[0;36m64\u001b[0m\u001b[0;34m,\u001b[0m\u001b[0msigma\u001b[0m\u001b[0;34m=\u001b[0m\u001b[0;36m1.3\u001b[0m\u001b[0;34m,\u001b[0m\u001b[0mlearning_rate\u001b[0m\u001b[0;34m=\u001b[0m\u001b[0;36m0.5\u001b[0m\u001b[0;34m)\u001b[0m\u001b[0;34m\u001b[0m\u001b[0;34m\u001b[0m\u001b[0m\n\u001b[1;32m      4\u001b[0m \u001b[0msom\u001b[0m\u001b[0;34m.\u001b[0m\u001b[0mrandom_weights_init\u001b[0m\u001b[0;34m(\u001b[0m\u001b[0mdata\u001b[0m\u001b[0;34m)\u001b[0m\u001b[0;34m\u001b[0m\u001b[0;34m\u001b[0m\u001b[0m\n\u001b[1;32m      5\u001b[0m \u001b[0mprint\u001b[0m\u001b[0;34m(\u001b[0m\u001b[0;34m\"Initialising SOM.\"\u001b[0m\u001b[0;34m)\u001b[0m\u001b[0;34m\u001b[0m\u001b[0;34m\u001b[0m\u001b[0m\n",
            "\u001b[0;31mModuleNotFoundError\u001b[0m: No module named 'som'",
            "",
            "\u001b[0;31m---------------------------------------------------------------------------\u001b[0;32m\nNOTE: If your import is failing due to a missing package, you can\nmanually install dependencies using either !pip or !apt.\n\nTo view examples of installing some common dependencies, click the\n\"Open Examples\" button below.\n\u001b[0;31m---------------------------------------------------------------------------\u001b[0m\n"
          ]
        }
      ]
    },
    {
      "cell_type": "code",
      "metadata": {
        "id": "lKc0ywWvUcCa"
      },
      "source": [
        "from pylab import plot,axis,show,pcolor,colorbar,bone\n",
        "bone()\n",
        "pcolor(som.distance_map().T) \n",
        "colorbar()\n",
        "\n",
        "labels[labels == '0'] = 0\n",
        "labels[labels == '1'] = 1\n",
        "labels[labels == '2'] = 2\n",
        "labels[labels == '3'] = 3\n",
        "labels[labels == '4'] = 4\n",
        "labels[labels == '5'] = 5\n",
        "labels[labels == '6'] = 6\n",
        "labels[labels == '7'] = 7\n",
        "labels[labels == '8'] = 8\n",
        "labels[labels == '9'] = 9\n",
        "\n",
        "markers = ['o', 'v', '1', '3', '8', 's', 'p', 'x', 'D', '*']\n",
        "colors = [\"r\", \"g\", \"b\", \"y\", \"c\", (0,0.1,0.8), (1,0.5,0), (1,1,0.3), \"m\", (0.4,0.6,0)]\n",
        "for cnt,xx in enumerate(data):\n",
        " w = som.winner(xx) \n",
        " plot(w[0]+.5,w[1]+.5,markers[labels[cnt]],markerfacecolor='None',\n",
        "   markeredgecolor=colors[labels[cnt]],markersize=12,markeredgewidth=2)\n",
        "axis([0,som.weights.shape[0],0,som.weights.shape[1]])\n",
        "show()"
      ],
      "execution_count": null,
      "outputs": []
    },
    {
      "cell_type": "markdown",
      "metadata": {
        "id": "xGlrMIQigdzo"
      },
      "source": [
        "------ doc -----"
      ]
    },
    {
      "cell_type": "code",
      "metadata": {
        "id": "HHTXNKFFgfLS"
      },
      "source": [
        "from time import time\n",
        "\n",
        "import numpy as np\n",
        "from scipy import ndimage\n",
        "from matplotlib import pyplot as plt\n",
        "\n",
        "from sklearn import manifold, datasets"
      ],
      "execution_count": null,
      "outputs": []
    },
    {
      "cell_type": "code",
      "metadata": {
        "id": "OxplKqlEgg5c"
      },
      "source": [
        "digits = datasets.load_digits(n_class=10)\n",
        "X = digits.data\n",
        "y = digits.target\n",
        "n_samples, n_features = X.shape\n",
        "\n",
        "np.random.seed(0)"
      ],
      "execution_count": null,
      "outputs": []
    },
    {
      "cell_type": "code",
      "metadata": {
        "id": "kZxfqy7Ggjyh"
      },
      "source": [
        "def nudge_images(X, y):\n",
        "    # Having a larger dataset shows more clearly the behavior of the\n",
        "    # methods, but we multiply the size of the dataset only by 2, as the\n",
        "    # cost of the hierarchical clustering methods are strongly\n",
        "    # super-linear in n_samples\n",
        "    shift = lambda x: ndimage.shift(x.reshape((8, 8)),\n",
        "                                  .3 * np.random.normal(size=2),\n",
        "                                  mode='constant',\n",
        "                                  ).ravel()\n",
        "    X = np.concatenate([X, np.apply_along_axis(shift, 1, X)])\n",
        "    Y = np.concatenate([y, y], axis=0)\n",
        "    return X, Y\n",
        "\n",
        "X, y = nudge_images(X, y)"
      ],
      "execution_count": null,
      "outputs": []
    },
    {
      "cell_type": "code",
      "metadata": {
        "id": "lO-OBkKWglm-"
      },
      "source": [
        "def plot_clustering(X_red, X, labels, title=None):\n",
        "    x_min, x_max = np.min(X_red, axis=0), np.max(X_red, axis=0)\n",
        "    X_red = (X_red - x_min) / (x_max - x_min)\n",
        "\n",
        "    plt.figure(figsize=(6, 4))\n",
        "    for i in range(X_red.shape[0]):\n",
        "        plt.text(X_red[i, 0], X_red[i, 1], str(y[i]),\n",
        "                 color=plt.cm.spectral(labels[i] / 10.),\n",
        "                 fontdict={'weight': 'bold', 'size': 9})\n",
        "\n",
        "    plt.xticks([])\n",
        "    plt.yticks([])\n",
        "    if title is not None:\n",
        "        plt.title(title, size=17)\n",
        "    plt.axis('off')\n",
        "    plt.tight_layout()"
      ],
      "execution_count": null,
      "outputs": []
    },
    {
      "cell_type": "code",
      "metadata": {
        "id": "b73Q1JCcgqP6"
      },
      "source": [
        "# 2D embedding of the digits dataset\n",
        "print(\"Computing embedding\")\n",
        "X_red = manifold.SpectralEmbedding(n_components=2).fit_transform(X)\n",
        "print(\"Done.\")"
      ],
      "execution_count": null,
      "outputs": []
    },
    {
      "cell_type": "code",
      "metadata": {
        "id": "YbtTrAaggssz"
      },
      "source": [
        "from sklearn.cluster import AgglomerativeClustering\n",
        "\n",
        "for linkage in ('ward', 'average', 'complete'):\n",
        "    clustering = AgglomerativeClustering(linkage=linkage, n_clusters=10)\n",
        "    t0 = time()\n",
        "    clustering.fit(X_red)\n",
        "    print(\"%s : %.2fs\" % (linkage, time() - t0))\n",
        "\n",
        "    plot_clustering(X_red, X, clustering.labels_, \"%s linkage\" % linkage)\n",
        "\n",
        "\n",
        "plt.show()"
      ],
      "execution_count": null,
      "outputs": []
    }
  ]
}