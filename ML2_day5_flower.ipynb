{
  "nbformat": 4,
  "nbformat_minor": 0,
  "metadata": {
    "colab": {
      "name": "ML2_day5_flower.ipynb",
      "provenance": [],
      "collapsed_sections": [],
      "authorship_tag": "ABX9TyO/MRuvuyUkISqN63leMnlB",
      "include_colab_link": true
    },
    "kernelspec": {
      "name": "python3",
      "display_name": "Python 3"
    }
  },
  "cells": [
    {
      "cell_type": "markdown",
      "metadata": {
        "id": "view-in-github",
        "colab_type": "text"
      },
      "source": [
        "<a href=\"https://colab.research.google.com/github/keymemory/Machine_Learning_Second/blob/main/ML2_day5_flower.ipynb\" target=\"_parent\"><img src=\"https://colab.research.google.com/assets/colab-badge.svg\" alt=\"Open In Colab\"/></a>"
      ]
    },
    {
      "cell_type": "code",
      "metadata": {
        "id": "hDUcvvqRIvNf",
        "colab": {
          "base_uri": "https://localhost:8080/",
          "height": 34
        },
        "outputId": "3926b8a4-daa4-48df-b7e8-e372a17613f5"
      },
      "source": [
        "import csv\n",
        "from google.colab import drive\n",
        "drive.mount('/content/drive')"
      ],
      "execution_count": null,
      "outputs": [
        {
          "output_type": "stream",
          "text": [
            "Drive already mounted at /content/drive; to attempt to forcibly remount, call drive.mount(\"/content/drive\", force_remount=True).\n"
          ],
          "name": "stdout"
        }
      ]
    },
    {
      "cell_type": "code",
      "metadata": {
        "id": "DYA_KTvSIMF3",
        "colab": {
          "base_uri": "https://localhost:8080/",
          "height": 239
        },
        "outputId": "b514dab0-ef90-4eb5-82f0-b7409d0607ab"
      },
      "source": [
        "from sklearn import svm, metrics\n",
        "import random, re\n",
        "\n",
        "# 붓꽃의 CSV 데이터 읽어 들이기 --- (※1)\n",
        "csv = []\n",
        "with open('iris.csv', 'r', encoding='utf-8') as fp:\n",
        "\n",
        "    # 한 줄씩 읽어 들이기\n",
        "    for line in fp:\n",
        "        line = line.strip()    # 줄바꿈 제거\n",
        "        cols = line.split(',') # 쉼표로 자르기\n",
        "\n",
        "        # 문자열 데이터를 숫자로 변환하기\n",
        "        fn = lambda n : float(n) if re.match(r'^[0-9\\.]+$', n) else n\n",
        "        cols = list(map(fn, cols))\n",
        "        csv.append(cols)\n",
        "\n",
        "# 가장 앞 줄의 헤더 제거\n",
        "del csv[0]\n",
        "\n",
        "# 데이터 셔플하기(섞기) --- (※2)\n",
        "random.shuffle(csv)\n",
        "\n",
        "# 학습 전용 데이터와 테스트 전용 데이터 분할하기(2:1 비율) --- (※3)\n",
        "total_len = len(csv)\n",
        "train_len = int(total_len * 2 / 3)\n",
        "train_data = []\n",
        "train_label = []\n",
        "test_data = []\n",
        "test_label = []\n",
        "for i in range(total_len):\n",
        "    data  = csv[i][0:4]\n",
        "    label = csv[i][4]\n",
        "    if i < train_len:\n",
        "        train_data.append(data)\n",
        "        train_label.append(label)\n",
        "    else:\n",
        "        test_data.append(data)\n",
        "        test_label.append(label)\n",
        "\n",
        "# 데이터를 학습시키고 예측하기 --- (※4)\n",
        "clf = svm.SVC()\n",
        "clf.fit(train_data, train_label)\n",
        "pre = clf.predict(test_data)\n",
        "\n",
        "# 정답률 구하기 --- (※5)\n",
        "ac_score = metrics.accuracy_score(test_label, pre)\n",
        "print(\"정답률 =\", ac_score)"
      ],
      "execution_count": null,
      "outputs": [
        {
          "output_type": "error",
          "ename": "FileNotFoundError",
          "evalue": "ignored",
          "traceback": [
            "\u001b[0;31m---------------------------------------------------------------------------\u001b[0m",
            "\u001b[0;31mFileNotFoundError\u001b[0m                         Traceback (most recent call last)",
            "\u001b[0;32m<ipython-input-5-15706f80c119>\u001b[0m in \u001b[0;36m<module>\u001b[0;34m()\u001b[0m\n\u001b[1;32m      4\u001b[0m \u001b[0;31m# 붓꽃의 CSV 데이터 읽어 들이기 --- (※1)\u001b[0m\u001b[0;34m\u001b[0m\u001b[0;34m\u001b[0m\u001b[0;34m\u001b[0m\u001b[0m\n\u001b[1;32m      5\u001b[0m \u001b[0mcsv\u001b[0m \u001b[0;34m=\u001b[0m \u001b[0;34m[\u001b[0m\u001b[0;34m]\u001b[0m\u001b[0;34m\u001b[0m\u001b[0;34m\u001b[0m\u001b[0m\n\u001b[0;32m----> 6\u001b[0;31m \u001b[0;32mwith\u001b[0m \u001b[0mopen\u001b[0m\u001b[0;34m(\u001b[0m\u001b[0;34m'iris.csv'\u001b[0m\u001b[0;34m,\u001b[0m \u001b[0;34m'r'\u001b[0m\u001b[0;34m,\u001b[0m \u001b[0mencoding\u001b[0m\u001b[0;34m=\u001b[0m\u001b[0;34m'utf-8'\u001b[0m\u001b[0;34m)\u001b[0m \u001b[0;32mas\u001b[0m \u001b[0mfp\u001b[0m\u001b[0;34m:\u001b[0m\u001b[0;34m\u001b[0m\u001b[0;34m\u001b[0m\u001b[0m\n\u001b[0m\u001b[1;32m      7\u001b[0m \u001b[0;34m\u001b[0m\u001b[0m\n\u001b[1;32m      8\u001b[0m     \u001b[0;31m# 한 줄씩 읽어 들이기\u001b[0m\u001b[0;34m\u001b[0m\u001b[0;34m\u001b[0m\u001b[0;34m\u001b[0m\u001b[0m\n",
            "\u001b[0;31mFileNotFoundError\u001b[0m: [Errno 2] No such file or directory: 'iris.csv'"
          ]
        }
      ]
    },
    {
      "cell_type": "code",
      "metadata": {
        "id": "7Zlr_clGINer"
      },
      "source": [
        ""
      ],
      "execution_count": null,
      "outputs": []
    }
  ]
}