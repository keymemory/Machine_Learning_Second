{
  "nbformat": 4,
  "nbformat_minor": 0,
  "metadata": {
    "colab": {
      "name": "ML2_day2_2.ipynb",
      "provenance": [],
      "collapsed_sections": [],
      "authorship_tag": "ABX9TyMLJrNFUlf0AfXy+/xyF7GC",
      "include_colab_link": true
    },
    "kernelspec": {
      "name": "python3",
      "display_name": "Python 3"
    }
  },
  "cells": [
    {
      "cell_type": "markdown",
      "metadata": {
        "id": "view-in-github",
        "colab_type": "text"
      },
      "source": [
        "<a href=\"https://colab.research.google.com/github/keymemory/Machine_Learning_Second/blob/main/ML2_day2_2.ipynb\" target=\"_parent\"><img src=\"https://colab.research.google.com/assets/colab-badge.svg\" alt=\"Open In Colab\"/></a>"
      ]
    },
    {
      "cell_type": "code",
      "metadata": {
        "id": "zB9r2LHjsZgb"
      },
      "source": [
        "import tensorflow.compat.v1 as tf\n",
        "tf.compat.v1.disable_eager_execution()\n"
      ],
      "execution_count": null,
      "outputs": []
    },
    {
      "cell_type": "code",
      "metadata": {
        "id": "IBpgaLfFseaw"
      },
      "source": [
        "data=[[2,81],[4,93],[6,91],[8,97]]\n",
        "x_data=[x_row[0] for x_row in data]\n",
        "y_data=[y_row[0] for y_row in data]"
      ],
      "execution_count": null,
      "outputs": []
    },
    {
      "cell_type": "markdown",
      "metadata": {
        "id": "X2AmwaxbvIv4"
      },
      "source": [
        ""
      ]
    },
    {
      "cell_type": "code",
      "metadata": {
        "id": "XuXie_sQspvS"
      },
      "source": [
        "# 기울기 a와 y 절편 b의 값을 임의로 정한다\n",
        "# 단, 기울기의 범위는 0 ~ 10 사이이며 y절편은 0~100 사이에서 변한다\n",
        "a = tf.Variable(tf.random_uniform([1],0,10, dtype = tf.float64, seed=0))\n",
        "b = tf.Variable(tf.random_uniform([1],0,100, dtype = tf.float64, seed=0))"
      ],
      "execution_count": null,
      "outputs": []
    },
    {
      "cell_type": "code",
      "metadata": {
        "id": "3oqgo51es9ql"
      },
      "source": [
        "# y에 대한 일차 방정식은 ax+b\n",
        "y = a * x_data + b"
      ],
      "execution_count": null,
      "outputs": []
    },
    {
      "cell_type": "code",
      "metadata": {
        "id": "0zUQKchztCNq"
      },
      "source": [
        "# 텐서플로 RMSE 함수\n",
        "rmse = tf.sqrt(tf.reduce_mean(tf.square(y - y_data)))"
      ],
      "execution_count": null,
      "outputs": []
    },
    {
      "cell_type": "code",
      "metadata": {
        "id": "vbuFk0AMtJCx"
      },
      "source": [
        "# 학습률 값\n",
        "learning_rate = 0.1"
      ],
      "execution_count": null,
      "outputs": []
    },
    {
      "cell_type": "code",
      "metadata": {
        "id": "HYG2q9DjtmWU"
      },
      "source": [
        "# RMSE 값을 최소로 하는 값 찾기\n",
        "gradient_decent = tf.train.GradientDescentOptimizer(learning_rate).minimize(rmse)"
      ],
      "execution_count": null,
      "outputs": []
    },
    {
      "cell_type": "code",
      "metadata": {
        "id": "H5SKDca6t6We",
        "colab": {
          "base_uri": "https://localhost:8080/",
          "height": 386
        },
        "outputId": "97b949d1-749f-40cd-8675-1361d95f23b0"
      },
      "source": [
        "with tf.Session() as sess:\n",
        "  # 변수 초기화\n",
        "  sess.run(tf.global_variables_initializer())\n",
        "\n",
        "  for step in range(2001):\n",
        "    sess.run(gradient_decent)\n",
        "    # 100번마다 결과 출력\n",
        "    if step % 100 == 0:\n",
        "      print(\"Epoch: %.f RMSE= %.4f, 기울기 a= %.4f, y절편 b= %.4f\" %\n",
        "            (step, sess.run(rmse), sess.run(a), sess.run(b)))"
      ],
      "execution_count": null,
      "outputs": [
        {
          "output_type": "stream",
          "text": [
            "Epoch: 0 RMSE= 114.2489, 기울기 a= 7.5434, y절편 b= 80.5910\n",
            "Epoch: 100 RMSE= 30.2481, 기울기 a= -11.4110, y절편 b= 74.0875\n",
            "Epoch: 200 RMSE= 28.6267, 기울기 a= -10.7494, y절편 b= 70.1156\n",
            "Epoch: 300 RMSE= 27.0053, 기울기 a= -10.0840, y절편 b= 66.1443\n",
            "Epoch: 400 RMSE= 25.3839, 기울기 a= -9.4185, y절편 b= 62.1731\n",
            "Epoch: 500 RMSE= 23.7625, 기울기 a= -8.7530, y절편 b= 58.2018\n",
            "Epoch: 600 RMSE= 22.1412, 기울기 a= -8.0875, y절편 b= 54.2305\n",
            "Epoch: 700 RMSE= 20.5198, 기울기 a= -7.4221, y절편 b= 50.2593\n",
            "Epoch: 800 RMSE= 18.8984, 기울기 a= -6.7566, y절편 b= 46.2880\n",
            "Epoch: 900 RMSE= 17.2770, 기울기 a= -6.0911, y절편 b= 42.3167\n",
            "Epoch: 1000 RMSE= 15.6556, 기울기 a= -5.4256, y절편 b= 38.3455\n",
            "Epoch: 1100 RMSE= 14.0342, 기울기 a= -4.7602, y절편 b= 34.3742\n",
            "Epoch: 1200 RMSE= 12.4129, 기울기 a= -4.0947, y절편 b= 30.4029\n",
            "Epoch: 1300 RMSE= 10.7915, 기울기 a= -3.4292, y절편 b= 26.4316\n",
            "Epoch: 1400 RMSE= 9.1701, 기울기 a= -2.7637, y절편 b= 22.4604\n",
            "Epoch: 1500 RMSE= 7.5487, 기울기 a= -2.0983, y절편 b= 18.4891\n",
            "Epoch: 1600 RMSE= 5.9273, 기울기 a= -1.4328, y절편 b= 14.5178\n",
            "Epoch: 1700 RMSE= 4.3059, 기울기 a= -0.7673, y절편 b= 10.5466\n",
            "Epoch: 1800 RMSE= 2.6846, 기울기 a= -0.1018, y절편 b= 6.5753\n",
            "Epoch: 1900 RMSE= 1.0632, 기울기 a= 0.5636, y절편 b= 2.6040\n",
            "Epoch: 2000 RMSE= 1.5416, 기울기 a= 0.6112, y절편 b= 0.6709\n"
          ],
          "name": "stdout"
        }
      ]
    },
    {
      "cell_type": "code",
      "metadata": {
        "id": "6qgYHr9Hxmw8"
      },
      "source": [
        ""
      ],
      "execution_count": null,
      "outputs": []
    }
  ]
}