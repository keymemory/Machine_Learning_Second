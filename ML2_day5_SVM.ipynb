{
  "nbformat": 4,
  "nbformat_minor": 0,
  "metadata": {
    "colab": {
      "name": "ML2_day5_SVM.ipynb",
      "provenance": [],
      "collapsed_sections": [],
      "authorship_tag": "ABX9TyNkouRpUUWMEa6YnCyQ0LGW",
      "include_colab_link": true
    },
    "kernelspec": {
      "name": "python3",
      "display_name": "Python 3"
    }
  },
  "cells": [
    {
      "cell_type": "markdown",
      "metadata": {
        "id": "view-in-github",
        "colab_type": "text"
      },
      "source": [
        "<a href=\"https://colab.research.google.com/github/keymemory/Machine_Learning_Second/blob/main/ML2_day5_SVM.ipynb\" target=\"_parent\"><img src=\"https://colab.research.google.com/assets/colab-badge.svg\" alt=\"Open In Colab\"/></a>"
      ]
    },
    {
      "cell_type": "code",
      "metadata": {
        "id": "NDsHnUqwCslD"
      },
      "source": [
        "import random\n",
        "\n",
        "# BMI를 계산해서 레이블을 리턴하는 함수\n",
        "def calc_bmi(h, w):\n",
        "    bmi = w / (h/100) ** 2\n",
        "    if bmi < 18.5: return \"thin\"\n",
        "    if bmi < 25: return \"normal\"\n",
        "    return \"fat\"\n",
        "\n",
        "# 출력 파일 준비하기\n",
        "fp = open(\"bmi.csv\",\"w\",encoding=\"utf-8\")\n",
        "fp.write(\"height,weight,label\\r\\n\")\n",
        "\n",
        "# 무작위로 데이터 생성하기\n",
        "cnt = {\"thin\":0, \"normal\":0, \"fat\":0}\n",
        "for i in range(20000):\n",
        "    h = random.randint(120,200)\n",
        "    w = random.randint(35, 80)\n",
        "    label = calc_bmi(h, w)\n",
        "    cnt[label] += 1\n",
        "    fp.write(\"{0},{1},{2}\\r\\n\".format(h, w, label))\n",
        "fp.close()"
      ],
      "execution_count": null,
      "outputs": []
    },
    {
      "cell_type": "code",
      "metadata": {
        "id": "Ryyi7_9ZClle",
        "colab": {
          "base_uri": "https://localhost:8080/",
          "height": 228
        },
        "outputId": "5e64e028-0200-40ac-c1c4-dc47d32eb616"
      },
      "source": [
        "from sklearn import svm, metrics\n",
        "from sklearn.model_selection import train_test_split\n",
        "import matplotlib.pyplot as plt\n",
        "import pandas as pd\n",
        "\n",
        "# 키와 몸무게 데이터 읽어 들이기 --- (※1)\n",
        "# pandas를 사용해 CSV 파일을 읽어들인다. pandas를 이용하면 배열 데이터를 쉽게 다룰 수 # # 있다.\n",
        "tbl = pd.read_csv(\"bmi.csv\")\n",
        "\n",
        "# 칼럼(열)을 자르고 정규화하기 --- (※2)\n",
        "# CSV 파일의 첫 로우(헤더 로우)에 적힌 이름을 기반으로 필요한 컬럼을 추출한다.\n",
        "# 각 칼럼을 0부터 1의 범위로 정규화하고 몸무게와 키가 적힌 칼럼을 변수 w에 넣고 \n",
        "# thin/normal/fat 레이블 칼럼을 변수 label에 넣는다.\n",
        "label = tbl[\"label\"]\n",
        "w = tbl[\"weight\"] / 100 # 최대 100kg라고 가정\n",
        "h = tbl[\"height\"] / 200 # 최대 200cm라고 가정\n",
        "wh = pd.concat([w, h], axis=1)\n",
        "\n",
        "# 학습 전용 데이터와 테스트 전용 데이터로 나누기 --- (※3)\n",
        "data_train, data_test, label_train, label_test = \\\n",
        "    train_test_split(wh, label)\n",
        "\n",
        "# 데이터 학습하기 --- (※4)\n",
        "# 학습 전용 데이터를 사용해 학습시킨다.\n",
        "clf = svm.SVC()\n",
        "clf.fit(data_train, label_train)\n",
        "\n",
        "# 데이터 예측하기 --- (※5)\n",
        "predict = clf.predict(data_test)\n",
        "\n",
        "# 결과 테스트(검증)하기 --- (※6)\n",
        "ac_score = metrics.accuracy_score(label_test, predict)\n",
        "cl_report = metrics.classification_report(label_test, predict)\n",
        "print(\"정답률 =\", ac_score)\n",
        "print(\"리포트 =\\n\", cl_report)"
      ],
      "execution_count": null,
      "outputs": [
        {
          "output_type": "stream",
          "text": [
            "정답률 = 0.9966\n",
            "리포트 =\n",
            "               precision    recall  f1-score   support\n",
            "\n",
            "         fat       1.00      0.99      1.00      1926\n",
            "      normal       0.99      1.00      0.99      1431\n",
            "        thin       1.00      1.00      1.00      1643\n",
            "\n",
            "    accuracy                           1.00      5000\n",
            "   macro avg       1.00      1.00      1.00      5000\n",
            "weighted avg       1.00      1.00      1.00      5000\n",
            "\n"
          ],
          "name": "stdout"
        }
      ]
    },
    {
      "cell_type": "code",
      "metadata": {
        "id": "aKQ56IyBCktd",
        "colab": {
          "base_uri": "https://localhost:8080/",
          "height": 265
        },
        "outputId": "ce47c5b7-763b-4fc7-aa00-2d3594b1ba90"
      },
      "source": [
        "import matplotlib.pyplot as plt\n",
        "import pandas as pd\n",
        "\n",
        "# Pandas로 CSV 파일 읽어 들이기\n",
        "tbl = pd.read_csv(\"bmi.csv\", index_col=2)\n",
        "\n",
        "# 그래프 그리기 시작\n",
        "fig = plt.figure()\n",
        "ax = fig.add_subplot(1, 1, 1)\n",
        "\n",
        "# 서브 플롯 전용 - 지정한 레이블을 임의의 색으로 칠하기\n",
        "def scatter(lbl, color):\n",
        "    b = tbl.loc[lbl]\n",
        "    ax.scatter(b[\"weight\"],b[\"height\"], c=color, label=lbl)\n",
        "scatter(\"fat\",    \"red\")\n",
        "scatter(\"normal\", \"yellow\")\n",
        "scatter(\"thin\",   \"purple\")\n",
        "ax.legend() \n",
        "plt.savefig(\"bmi-test.png\")\n",
        "# plt.show()"
      ],
      "execution_count": null,
      "outputs": [
        {
          "output_type": "display_data",
          "data": {
            "image/png": "[encoded data removed]",
            "text/plain": [
              "<Figure size 432x288 with 1 Axes>"
            ]
          },
          "metadata": {
            "tags": [],
            "needs_background": "light"
          }
        }
      ]
    },
    {
      "cell_type": "code",
      "metadata": {
        "id": "kMAG8j60E5ue"
      },
      "source": [
        ""
      ],
      "execution_count": null,
      "outputs": []
    }
  ]
}