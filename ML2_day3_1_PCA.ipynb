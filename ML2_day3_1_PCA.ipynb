{
  "nbformat": 4,
  "nbformat_minor": 0,
  "metadata": {
    "colab": {
      "name": "ML2_day3_1_PCA.ipynb",
      "provenance": [],
      "collapsed_sections": [],
      "authorship_tag": "ABX9TyPGM9t2xKnV/Udz2jJyVc3a",
      "include_colab_link": true
    },
    "kernelspec": {
      "name": "python3",
      "display_name": "Python 3"
    }
  },
  "cells": [
    {
      "cell_type": "markdown",
      "metadata": {
        "id": "view-in-github",
        "colab_type": "text"
      },
      "source": [
        "<a href=\"https://colab.research.google.com/github/keymemory/Machine_Learning_Second/blob/main/ML2_day3_1_PCA.ipynb\" target=\"_parent\"><img src=\"https://colab.research.google.com/assets/colab-badge.svg\" alt=\"Open In Colab\"/></a>"
      ]
    },
    {
      "cell_type": "markdown",
      "metadata": {
        "id": "qeIbvuXASZAk"
      },
      "source": [
        "PCA 구하는 방법을 이용하여 예제 데이터 셋에 적용"
      ]
    },
    {
      "cell_type": "code",
      "metadata": {
        "id": "NTHphRp7MqQ9"
      },
      "source": [
        "import numpy as np"
      ],
      "execution_count": null,
      "outputs": []
    },
    {
      "cell_type": "code",
      "metadata": {
        "id": "dtqiaWAZSXU9"
      },
      "source": [
        "np.random.seed(4)\n",
        "m = 60\n",
        "w1, w2 = 0.1, 0.3\n",
        "noise = 0.1"
      ],
      "execution_count": null,
      "outputs": []
    },
    {
      "cell_type": "code",
      "metadata": {
        "id": "rQxsr1ptScgX"
      },
      "source": [
        "angles = np.random.rand(m) * 3 * np.pi / 2 - 0.5\n",
        "X = np.empty((m, 3))\n",
        "X[:, 0] = np.cos(angles) + np.sin(angles)/2 + noise * np.random.randn(m) / 2\n",
        "X[:, 1] = np.sin(angles) * 0.7 + noise * np.random.randn(m) / 2\n",
        "X[:, 2] = X[:, 0] * w1 + X[:, 1] * w2 + noise * np.random.randn(m)"
      ],
      "execution_count": null,
      "outputs": []
    },
    {
      "cell_type": "code",
      "metadata": {
        "id": "IwLl_hkUSdhp",
        "colab": {
          "base_uri": "https://localhost:8080/",
          "height": 34
        },
        "outputId": "6801973e-cc83-4910-d22c-c558b0228d2d"
      },
      "source": [
        "print('X.shape:', X.shape)"
      ],
      "execution_count": null,
      "outputs": [
        {
          "output_type": "stream",
          "text": [
            "X.shape: (60, 3)\n"
          ],
          "name": "stdout"
        }
      ]
    },
    {
      "cell_type": "markdown",
      "metadata": {
        "id": "Gjy2W4IoSmEF"
      },
      "source": [
        "PCA를 구하기 위해서는 먼저 공분산 행렬"
      ]
    },
    {
      "cell_type": "code",
      "metadata": {
        "id": "Qx2ZZYj0SjcF",
        "colab": {
          "base_uri": "https://localhost:8080/",
          "height": 70
        },
        "outputId": "c85c32a7-0b1a-408e-86a8-a69fa8a05201"
      },
      "source": [
        "X_cen = X - X.mean(axis=0)  # 평균을 0으로\n",
        "X_cov = np.dot(X_cen.T, X_cen) / 59\n",
        "\n",
        "print(X_cov)"
      ],
      "execution_count": null,
      "outputs": [
        {
          "output_type": "stream",
          "text": [
            "[[0.69812855 0.17640539 0.12137931]\n",
            " [0.17640539 0.1801727  0.07253614]\n",
            " [0.12137931 0.07253614 0.04552382]]\n"
          ],
          "name": "stdout"
        }
      ]
    },
    {
      "cell_type": "code",
      "metadata": {
        "id": "VtD3GswjXRge",
        "colab": {
          "base_uri": "https://localhost:8080/",
          "height": 70
        },
        "outputId": "55b2fbc6-e643-4acb-ceb2-5a7f8217ac6e"
      },
      "source": [
        "# np.cov()를 이용해 구할 수도 있다.\n",
        "print(np.cov(X_cen.T))"
      ],
      "execution_count": null,
      "outputs": [
        {
          "output_type": "stream",
          "text": [
            "[[0.69812855 0.17640539 0.12137931]\n",
            " [0.17640539 0.1801727  0.07253614]\n",
            " [0.12137931 0.07253614 0.04552382]]\n"
          ],
          "name": "stdout"
        }
      ]
    },
    {
      "cell_type": "markdown",
      "metadata": {
        "id": "XkdcISy7UP42"
      },
      "source": [
        "공분산 행렬 X_cov에 대해 np.linalg.eig를 이용해 eigenvalue(w)와 eigenvector(v)를 구할 수 있다."
      ]
    },
    {
      "cell_type": "code",
      "metadata": {
        "id": "QtMTB9rISr9M",
        "colab": {
          "base_uri": "https://localhost:8080/",
          "height": 34
        },
        "outputId": "129f00ee-aa3f-4906-d17d-8d3c8e77d5ca"
      },
      "source": [
        "w, v = np.linalg.eig(X_cov)\n",
        "\n",
        "print('eigenvalue :', w)"
      ],
      "execution_count": null,
      "outputs": [
        {
          "output_type": "stream",
          "text": [
            "eigenvalue : [0.77830975 0.1351726  0.01034272]\n"
          ],
          "name": "stdout"
        }
      ]
    },
    {
      "cell_type": "code",
      "metadata": {
        "id": "CSyq4tvIUT-F",
        "colab": {
          "base_uri": "https://localhost:8080/",
          "height": 87
        },
        "outputId": "175ac274-d492-44ff-b658-957afa1a6438"
      },
      "source": [
        "print('eigenvector :\\n', v)"
      ],
      "execution_count": null,
      "outputs": [
        {
          "output_type": "stream",
          "text": [
            "eigenvector :\n",
            " [[ 0.93636116  0.34027485 -0.08626012]\n",
            " [ 0.29854881 -0.90119108 -0.31420255]\n",
            " [ 0.18465208 -0.2684542   0.94542898]]\n"
          ],
          "name": "stdout"
        }
      ]
    },
    {
      "cell_type": "code",
      "metadata": {
        "id": "syaE_O6MUXWV",
        "colab": {
          "base_uri": "https://localhost:8080/",
          "height": 34
        },
        "outputId": "64c394ff-e84a-46f4-9b5a-7b6a94daf962"
      },
      "source": [
        "print('explained variance ratio :', w / w.sum())"
      ],
      "execution_count": null,
      "outputs": [
        {
          "output_type": "stream",
          "text": [
            "explained variance ratio : [0.84248607 0.14631839 0.01119554]\n"
          ],
          "name": "stdout"
        }
      ]
    },
    {
      "cell_type": "markdown",
      "metadata": {
        "id": "zu2jbfo_dReo"
      },
      "source": [
        "주성분 벡터를 이용해 투영한 뒤 분산의 비율 즉, Explained Variance Ratio를 계산한 코드"
      ]
    },
    {
      "cell_type": "code",
      "metadata": {
        "id": "CPyLBSg5UagK"
      },
      "source": [
        "# PC1에 projection\n",
        "pc1 = v[:, 0]\n",
        "proj1 = np.dot(X, pc1)\n",
        "\n",
        "# PC2에 projection\n",
        "pc2 = v[:, 1]\n",
        "proj2 = np.dot(X, pc2)\n",
        "\n",
        "# PC3에 projection\n",
        "pc3 = v[:, 2]\n",
        "proj3 = np.dot(X, pc3)"
      ],
      "execution_count": null,
      "outputs": []
    },
    {
      "cell_type": "code",
      "metadata": {
        "id": "Xa7zNpwmdUnc",
        "colab": {
          "base_uri": "https://localhost:8080/",
          "height": 34
        },
        "outputId": "9e4f27d8-d890-43de-d497-6afbe7b6b00c"
      },
      "source": [
        "proj_list = np.array([proj1.var(), proj2.var(), proj3.var()])\n",
        "\n",
        "print('variance(==eigenvalue) :', proj_list)"
      ],
      "execution_count": null,
      "outputs": [
        {
          "output_type": "stream",
          "text": [
            "variance(==eigenvalue) : [0.76533792 0.13291972 0.01017034]\n"
          ],
          "name": "stdout"
        }
      ]
    },
    {
      "cell_type": "code",
      "metadata": {
        "id": "kZeJ1SQjdavx",
        "colab": {
          "base_uri": "https://localhost:8080/",
          "height": 34
        },
        "outputId": "fefa9153-b168-49b5-a464-8332d52e4e0d"
      },
      "source": [
        "print('explained variance ratio :', proj_list / proj_list.sum())"
      ],
      "execution_count": null,
      "outputs": [
        {
          "output_type": "stream",
          "text": [
            "explained variance ratio : [0.84248607 0.14631839 0.01119554]\n"
          ],
          "name": "stdout"
        }
      ]
    },
    {
      "cell_type": "code",
      "metadata": {
        "id": "4B8EdDk9dY5h"
      },
      "source": [
        ""
      ],
      "execution_count": null,
      "outputs": []
    }
  ]
}