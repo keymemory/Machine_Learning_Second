{
  "nbformat": 4,
  "nbformat_minor": 0,
  "metadata": {
    "colab": {
      "name": "ML2_day2_4.ipynb",
      "provenance": [],
      "collapsed_sections": [],
      "authorship_tag": "ABX9TyPvhwxjLk4gStLtOIHNbjvD",
      "include_colab_link": true
    },
    "kernelspec": {
      "name": "python3",
      "display_name": "Python 3"
    }
  },
  "cells": [
    {
      "cell_type": "markdown",
      "metadata": {
        "id": "view-in-github",
        "colab_type": "text"
      },
      "source": [
        "<a href=\"https://colab.research.google.com/github/keymemory/Machine_Learning_Second/blob/main/ML2_day2_4.ipynb\" target=\"_parent\"><img src=\"https://colab.research.google.com/assets/colab-badge.svg\" alt=\"Open In Colab\"/></a>"
      ]
    },
    {
      "cell_type": "markdown",
      "metadata": {
        "id": "3ElRH0NcRjo1"
      },
      "source": [
        "< 분류 결정 트리 >\n",
        "\n",
        "1.데이터 가져와서 학습하기\n",
        "- 유방암 데이터셋을 이용하여 결정 트리를 활용한다.\n",
        "- 데이터 셋을 읽고 훈련/테스트 세트로 나누고 완전한 트리 모델을 만든다"
      ]
    },
    {
      "cell_type": "code",
      "metadata": {
        "id": "y_nZPswRRaJu"
      },
      "source": [
        "from sklearn.datasets import load_breast_cancer\n",
        "from sklearn.tree import DecisionTreeClassifier\n"
      ],
      "execution_count": null,
      "outputs": []
    },
    {
      "cell_type": "code",
      "metadata": {
        "id": "m3Xc1n2jSN6w"
      },
      "source": [
        "cancer = load_breast_cancer()"
      ],
      "execution_count": null,
      "outputs": []
    },
    {
      "cell_type": "code",
      "metadata": {
        "id": "WrUK11lGSRSq"
      },
      "source": [
        "# 훈련/테스트 세트로 나누기\n",
        "from sklearn.model_selection import train_test_split\n",
        "X_train, X_test, y_train, y_test = train_test_split(cancer.data, cancer.target,stratify \n",
        "                                                    = cancer.target, random_state=42)\n",
        "tree = DecisionTreeClassifier(random_state = 0)"
      ],
      "execution_count": null,
      "outputs": []
    },
    {
      "cell_type": "code",
      "metadata": {
        "id": "p3AhSz0QSsqx",
        "colab": {
          "base_uri": "https://localhost:8080/",
          "height": 52
        },
        "outputId": "d55c369a-ca78-4b4e-bea2-b92233313256"
      },
      "source": [
        "# 훈련 데이터로 학습 시키기\n",
        "tree.fit(X_train,y_train)\n",
        "print(\"훈련 세트 점수: {:.3f}\".format(tree.score(X_train, y_train)))\n",
        "print(\"테스트 세트 점수: {:.3f}\".format(tree.score(X_test, y_test)))"
      ],
      "execution_count": null,
      "outputs": [
        {
          "output_type": "stream",
          "text": [
            "훈련 세트 점수: 1.000\n",
            "테스트 세트 점수: 0.937\n"
          ],
          "name": "stdout"
        }
      ]
    },
    {
      "cell_type": "markdown",
      "metadata": {
        "id": "QuTwqnvNTRhq"
      },
      "source": [
        "2. 사전 가지치기를 통한 학습 능력 판단하기"
      ]
    },
    {
      "cell_type": "code",
      "metadata": {
        "id": "m3OWe9zzTVGa"
      },
      "source": [
        "# coding: utf-8\n",
        "from sklearn.datasets import load_breast_cancer\n",
        "from sklearn.tree import DecisionTreeClassifier\n",
        "\n",
        "cancer = load_breast_cancer()"
      ],
      "execution_count": null,
      "outputs": []
    },
    {
      "cell_type": "code",
      "metadata": {
        "id": "P_pBtW8nTr_R"
      },
      "source": [
        "# 훈련/테스트 세트로 나누기\n",
        "from sklearn.model_selection import train_test_split\n",
        "X_train, X_test, y_train, y_test = train_test_split(cancer.data, cancer.target,stratify \n",
        "                                                    = cancer.target, random_state=42)\n",
        "tree = DecisionTreeClassifier(max_depth = 4, random_state = 0)"
      ],
      "execution_count": null,
      "outputs": []
    },
    {
      "cell_type": "code",
      "metadata": {
        "id": "lAKLijNrT38z",
        "colab": {
          "base_uri": "https://localhost:8080/",
          "height": 52
        },
        "outputId": "aed087d3-2093-41bd-b7a2-f85edb6c5ef9"
      },
      "source": [
        "# 훈련 데이터로 학습 시키기\n",
        "tree.fit(X_train,y_train)\n",
        "print(\"훈련 세트 점수: {:.3f}\".format(tree.score(X_train, y_train)))\n",
        "print(\"테스트 세트 점수: {:.3f}\".format(tree.score(X_test, y_test)))"
      ],
      "execution_count": null,
      "outputs": [
        {
          "output_type": "stream",
          "text": [
            "훈련 세트 점수: 0.988\n",
            "테스트 세트 점수: 0.951\n"
          ],
          "name": "stdout"
        }
      ]
    },
    {
      "cell_type": "markdown",
      "metadata": {
        "id": "ALXaE8OlT8yZ"
      },
      "source": [
        "3. 특성 중요도 확인"
      ]
    },
    {
      "cell_type": "code",
      "metadata": {
        "id": "BegWWVS1T7YU"
      },
      "source": [
        "# coding: utf-8\n",
        "from sklearn.datasets import load_breast_cancer\n",
        "from sklearn.tree import DecisionTreeClassifier\n",
        "import matplotlib.pyplot as plt\n",
        "import numpy as np\n",
        "\n",
        "cancer = load_breast_cancer()"
      ],
      "execution_count": null,
      "outputs": []
    },
    {
      "cell_type": "code",
      "metadata": {
        "id": "YN4gqYlgWlqa"
      },
      "source": [
        "# 훈련/테스트 세트로 나누기\n",
        "from sklearn.model_selection import train_test_split\n",
        "X_train, X_test, y_train, y_test = train_test_split(cancer.data, cancer.target,stratify \n",
        "                                                    = cancer.target, random_state=42)\n",
        "tree = DecisionTreeClassifier(max_depth = 4, random_state = 0)"
      ],
      "execution_count": null,
      "outputs": []
    },
    {
      "cell_type": "code",
      "metadata": {
        "id": "sVHzjmMlWpWC",
        "colab": {
          "base_uri": "https://localhost:8080/",
          "height": 122
        },
        "outputId": "bdc2b26e-1b83-4a88-df6e-76c361db3878"
      },
      "source": [
        "# 훈련 데이터로 학습 시키기\n",
        "tree.fit(X_train,y_train)"
      ],
      "execution_count": null,
      "outputs": [
        {
          "output_type": "execute_result",
          "data": {
            "text/plain": [
              "DecisionTreeClassifier(ccp_alpha=0.0, class_weight=None, criterion='gini',\n",
              "                       max_depth=4, max_features=None, max_leaf_nodes=None,\n",
              "                       min_impurity_decrease=0.0, min_impurity_split=None,\n",
              "                       min_samples_leaf=1, min_samples_split=2,\n",
              "                       min_weight_fraction_leaf=0.0, presort='deprecated',\n",
              "                       random_state=0, splitter='best')"
            ]
          },
          "metadata": {
            "tags": []
          },
          "execution_count": 13
        }
      ]
    },
    {
      "cell_type": "code",
      "metadata": {
        "id": "3lzLvrOiXDy4",
        "colab": {
          "base_uri": "https://localhost:8080/",
          "height": 122
        },
        "outputId": "126307f7-03cc-41d9-d595-68c5530cc8bf"
      },
      "source": [
        "#특성 중요도\n",
        "print(\"특성 중요도 : \\n{}\".format(tree.feature_importances_))"
      ],
      "execution_count": null,
      "outputs": [
        {
          "output_type": "stream",
          "text": [
            "특성 중요도 : \n",
            "[0.         0.         0.         0.         0.         0.\n",
            " 0.         0.         0.         0.         0.01019737 0.04839825\n",
            " 0.         0.         0.0024156  0.         0.         0.\n",
            " 0.         0.         0.72682851 0.0458159  0.         0.\n",
            " 0.0141577  0.         0.018188   0.1221132  0.01188548 0.        ]\n"
          ],
          "name": "stdout"
        }
      ]
    },
    {
      "cell_type": "markdown",
      "metadata": {
        "id": "t7epLdV6W2Lu"
      },
      "source": [
        "4. 특성 중요도 수평 막대그래프 그리기"
      ]
    },
    {
      "cell_type": "code",
      "metadata": {
        "id": "ZVInhLvRW6vJ"
      },
      "source": [
        "# coding: utf-8\n",
        "from sklearn.datasets import load_breast_cancer\n",
        "from sklearn.tree import DecisionTreeClassifier\n",
        "import matplotlib.pyplot as plt\n",
        "import numpy as np\n",
        "\n",
        "cancer = load_breast_cancer()"
      ],
      "execution_count": null,
      "outputs": []
    },
    {
      "cell_type": "code",
      "metadata": {
        "id": "G8xZAHScW7_s"
      },
      "source": [
        "# 훈련/테스트 세트로 나누기\n",
        "from sklearn.model_selection import train_test_split\n",
        "X_train, X_test, y_train, y_test = train_test_split(cancer.data, cancer.target,stratify \n",
        "                                                    = cancer.target, random_state=42)\n",
        "tree = DecisionTreeClassifier(max_depth = 4, random_state = 0)"
      ],
      "execution_count": null,
      "outputs": []
    },
    {
      "cell_type": "code",
      "metadata": {
        "id": "PdgRC_wGW-Iy",
        "colab": {
          "base_uri": "https://localhost:8080/",
          "height": 122
        },
        "outputId": "50726fba-b668-448c-889b-300a1e52ccbb"
      },
      "source": [
        "# 훈련 데이터로 학습 시키기\n",
        "tree.fit(X_train,y_train)"
      ],
      "execution_count": null,
      "outputs": [
        {
          "output_type": "execute_result",
          "data": {
            "text/plain": [
              "DecisionTreeClassifier(ccp_alpha=0.0, class_weight=None, criterion='gini',\n",
              "                       max_depth=4, max_features=None, max_leaf_nodes=None,\n",
              "                       min_impurity_decrease=0.0, min_impurity_split=None,\n",
              "                       min_samples_leaf=1, min_samples_split=2,\n",
              "                       min_weight_fraction_leaf=0.0, presort='deprecated',\n",
              "                       random_state=0, splitter='best')"
            ]
          },
          "metadata": {
            "tags": []
          },
          "execution_count": 17
        }
      ]
    },
    {
      "cell_type": "code",
      "metadata": {
        "id": "Yhk7LHynXA-_",
        "colab": {
          "base_uri": "https://localhost:8080/",
          "height": 122
        },
        "outputId": "00001dbd-8bad-468c-9a0d-4097f7bc5410"
      },
      "source": [
        "#특성 중요도\n",
        "print(\"특성 중요도 : \\n{}\".format(tree.feature_importances_))"
      ],
      "execution_count": null,
      "outputs": [
        {
          "output_type": "stream",
          "text": [
            "특성 중요도 : \n",
            "[0.         0.         0.         0.         0.         0.\n",
            " 0.         0.         0.         0.         0.01019737 0.04839825\n",
            " 0.         0.         0.0024156  0.         0.         0.\n",
            " 0.         0.         0.72682851 0.0458159  0.         0.\n",
            " 0.0141577  0.         0.018188   0.1221132  0.01188548 0.        ]\n"
          ],
          "name": "stdout"
        }
      ]
    },
    {
      "cell_type": "code",
      "metadata": {
        "id": "7_Opm-abXGx8",
        "colab": {
          "base_uri": "https://localhost:8080/",
          "height": 279
        },
        "outputId": "b57aed8d-6bc3-4f50-e057-1fca35480911"
      },
      "source": [
        "# 특성 중요도 시각화 하기\n",
        "def plot_feature_importances_cancer(model):\n",
        "  n_features = cancer.data.shape[1]\n",
        "  plt.barh(range(n_features), model.feature_importances_, align='center')\n",
        "  plt.yticks(np.arange(n_features), cancer.feature_names)\n",
        "  plt.xlabel(\"attr importances\")\n",
        "  plt.ylabel(\"attr\")\n",
        "  plt.ylim(-1, n_features)\n",
        "\n",
        "plot_feature_importances_cancer(tree)\n",
        "plt.show()"
      ],
      "execution_count": null,
      "outputs": [
        {
          "output_type": "display_data",
          "data": {
            "image/png": "[encoded data removed]",
            "text/plain": [
              "<Figure size 432x288 with 1 Axes>"
            ]
          },
          "metadata": {
            "tags": [],
            "needs_background": "light"
          }
        }
      ]
    }
  ]
}