{
  "nbformat": 4,
  "nbformat_minor": 0,
  "metadata": {
    "colab": {
      "name": "ML2_day5_English.ipynb",
      "provenance": [],
      "collapsed_sections": [],
      "authorship_tag": "ABX9TyMdRpMIeylYajba/NXXuX9r",
      "include_colab_link": true
    },
    "kernelspec": {
      "name": "python3",
      "display_name": "Python 3"
    }
  },
  "cells": [
    {
      "cell_type": "markdown",
      "metadata": {
        "id": "view-in-github",
        "colab_type": "text"
      },
      "source": [
        "<a href=\"https://colab.research.google.com/github/keymemory/Machine_Learning_Second/blob/main/ML2_day5_English.ipynb\" target=\"_parent\"><img src=\"https://colab.research.google.com/assets/colab-badge.svg\" alt=\"Open In Colab\"/></a>"
      ]
    },
    {
      "cell_type": "code",
      "metadata": {
        "id": "U-uFAHk82r_4",
        "colab": {
          "base_uri": "https://localhost:8080/",
          "height": 34
        },
        "outputId": "558c18fc-540f-4aac-a986-47c69333ddc0"
      },
      "source": [
        "import csv\n",
        "from google.colab import drive\n",
        "drive.mount('/content/gdrive')"
      ],
      "execution_count": null,
      "outputs": [
        {
          "output_type": "stream",
          "text": [
            "Drive already mounted at /content/gdrive; to attempt to forcibly remount, call drive.mount(\"/content/gdrive\", force_remount=True).\n"
          ],
          "name": "stdout"
        }
      ]
    },
    {
      "cell_type": "code",
      "metadata": {
        "id": "0C-co1EN0yi5",
        "colab": {
          "base_uri": "https://localhost:8080/",
          "height": 239
        },
        "outputId": "d7e2557f-36f9-464f-e1e3-c027e442bceb"
      },
      "source": [
        "\n",
        "from sklearn import svm, metrics\n",
        "import glob, os.path, re, json\n",
        "\n",
        "# 텍스트를 읽어 들이고 출현 빈도 조사하기 --- (※1)\n",
        "def check_freq(fname):\n",
        "    name = os.path.basename(fname)\n",
        "    # 파일 이름 앞의 2 문자가 언어 코드이므로 이를 기반으로 언어 ID를 추출한다.\n",
        "    lang = re.match(r'^[a-z]{2,}', name).group()\n",
        "    with open(fname, \"r\", encoding=\"utf-8\") as f:\n",
        "        text = f.read()\n",
        "    text = text.lower() # 소문자 변환\n",
        "    # 숫자 세기 변수(cnt) 초기화하기\n",
        "    cnt = [0 for n in range(0, 26)]\n",
        "    code_a = ord(\"a\")\n",
        "    code_z = ord(\"z\")\n",
        "\n",
        "    # 알파벳 출현 횟수 구하기 --- (※2)\n",
        "    # 즉, a~z까지의 알파벳이 ac 번씩 출현하는지 조사한다.\n",
        "    for ch in text:\n",
        "        n = ord(ch)\n",
        "        if code_a <= n <= code_z: # a~z 사이에 있을 때\n",
        "            cnt[n - code_a] += 1\n",
        "\n",
        "    # 정규화하기 --- (※3)\n",
        "    total = sum(cnt)\n",
        "    # 알파벳의 출현 횟수를 글자수의 합계로 나누어 출현 횟수를 출현 빈도로 변환한다.\n",
        "    # 출현 횟수를 출현 빈도로 변환하는 이유는 각 텍스트 파일에 있는 문자 수가 다르기 \n",
        "    # 때문에 출현 횟수를 비교하면 동일한 규칙이 적용되지 않기 때문이다.\n",
        "    # 따라서 모든 규칙을 통일하는 것인데, 이를 정규화라 한다.\n",
        "    # 정규화란, 데이터를 일정한 규칙을 기반으로 변형해서 쉽게 사용할 수 있게 한다.\n",
        "    freq = list(map(lambda n: n / total, cnt))\n",
        "    return (freq, lang)\n",
        "    \n",
        "# 각 파일 처리하기\n",
        "# 출현 횟수를 조사할 때는 글자를 하나씩 꺼내서 문자 코드로 고친 뒤 해당 문자 코드를 \n",
        "# 기반으로 배열의 특정 위치에 있는 숫자를 하나씩 증가시키는 방법을 사용한다.\n",
        "def load_files(path):\n",
        "    freqs = []\n",
        "    labels = []\n",
        "    file_list = glob.glob(path)\n",
        "    for fname in file_list:\n",
        "        r = check_freq(fname)\n",
        "        freqs.append(r[0])\n",
        "        labels.append(r[1])\n",
        "    return {\"freqs\":freqs, \"labels\":labels}\n",
        "data = load_files(\"./lang/train/*.txt\")\n",
        "test = load_files(\"./lang/test/*.txt\")\n",
        "\n",
        "# 이후를 대비해서 JSON으로 결과 저장하기\n",
        "with open(\"./lang/freq.json\", \"w\", encoding=\"utf-8\") as fp:\n",
        "    json.dump([data, test], fp)\n",
        "\n",
        "# 학습하기 --- (※4)\n",
        "clf = svm.SVC()\n",
        "clf.fit(data[\"freqs\"], data[\"labels\"])\n",
        "\n",
        "# 예측하기 --- (※5)\n",
        "predict = clf.predict(test[\"freqs\"])\n",
        "\n",
        "# 결과 테스트하기 --- (※6)\n",
        "ac_score = metrics.accuracy_score(test[\"labels\"], predict)\n",
        "cl_report = metrics.classification_report(test[\"labels\"], predict)\n",
        "print(\"정답률 =\", ac_score)\n",
        "print(\"리포트 =\")\n",
        "print(cl_report)"
      ],
      "execution_count": null,
      "outputs": [
        {
          "output_type": "error",
          "ename": "FileNotFoundError",
          "evalue": "ignored",
          "traceback": [
            "\u001b[0;31m---------------------------------------------------------------------------\u001b[0m",
            "\u001b[0;31mFileNotFoundError\u001b[0m                         Traceback (most recent call last)",
            "\u001b[0;32m<ipython-input-7-ce0c0c7f2a21>\u001b[0m in \u001b[0;36m<module>\u001b[0;34m()\u001b[0m\n\u001b[1;32m     49\u001b[0m \u001b[0;34m\u001b[0m\u001b[0m\n\u001b[1;32m     50\u001b[0m \u001b[0;31m# 이후를 대비해서 JSON으로 결과 저장하기\u001b[0m\u001b[0;34m\u001b[0m\u001b[0;34m\u001b[0m\u001b[0;34m\u001b[0m\u001b[0m\n\u001b[0;32m---> 51\u001b[0;31m \u001b[0;32mwith\u001b[0m \u001b[0mopen\u001b[0m\u001b[0;34m(\u001b[0m\u001b[0;34m\"./lang/freq.json\"\u001b[0m\u001b[0;34m,\u001b[0m \u001b[0;34m\"w\"\u001b[0m\u001b[0;34m,\u001b[0m \u001b[0mencoding\u001b[0m\u001b[0;34m=\u001b[0m\u001b[0;34m\"utf-8\"\u001b[0m\u001b[0;34m)\u001b[0m \u001b[0;32mas\u001b[0m \u001b[0mfp\u001b[0m\u001b[0;34m:\u001b[0m\u001b[0;34m\u001b[0m\u001b[0;34m\u001b[0m\u001b[0m\n\u001b[0m\u001b[1;32m     52\u001b[0m     \u001b[0mjson\u001b[0m\u001b[0;34m.\u001b[0m\u001b[0mdump\u001b[0m\u001b[0;34m(\u001b[0m\u001b[0;34m[\u001b[0m\u001b[0mdata\u001b[0m\u001b[0;34m,\u001b[0m \u001b[0mtest\u001b[0m\u001b[0;34m]\u001b[0m\u001b[0;34m,\u001b[0m \u001b[0mfp\u001b[0m\u001b[0;34m)\u001b[0m\u001b[0;34m\u001b[0m\u001b[0;34m\u001b[0m\u001b[0m\n\u001b[1;32m     53\u001b[0m \u001b[0;34m\u001b[0m\u001b[0m\n",
            "\u001b[0;31mFileNotFoundError\u001b[0m: [Errno 2] No such file or directory: './lang/freq.json'"
          ]
        }
      ]
    },
    {
      "cell_type": "code",
      "metadata": {
        "id": "svc_JrYZ04dA"
      },
      "source": [
        ""
      ],
      "execution_count": null,
      "outputs": []
    }
  ]
}